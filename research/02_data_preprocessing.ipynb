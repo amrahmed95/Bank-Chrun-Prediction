{
    "cells": [
        {
            "cell_type": "code",
            "execution_count": 1,
            "metadata": {},
            "outputs": [],
            "source": [
                "DATA_PATH = '../artifacts/data_ingestion/Churn_Modelling.csv'\n",
                "\n",
                "EXPORT_PATH = '../artifacts/data_preprocessed/1_preprocessed_df.pkl'"
            ]
        },
        {
            "cell_type": "code",
            "execution_count": 2,
            "metadata": {},
            "outputs": [],
            "source": [
                "# Load packages\n",
                "import pandas as pd \n",
                "import numpy as np\n",
                "import logging\n",
                "import pickle\n",
                "from sklearn.preprocessing import LabelEncoder"
            ]
        },
        {
            "cell_type": "markdown",
            "metadata": {},
            "source": [
                "-------"
            ]
        },
        {
            "cell_type": "markdown",
            "metadata": {},
            "source": [
                "# Processing "
            ]
        },
        {
            "cell_type": "markdown",
            "metadata": {},
            "source": [
                "## Preprocess Data "
            ]
        },
        {
            "cell_type": "code",
            "execution_count": 3,
            "metadata": {},
            "outputs": [],
            "source": [
                "raw_df = pd.read_csv(DATA_PATH)\n",
                "df = raw_df.copy()"
            ]
        },
        {
            "cell_type": "markdown",
            "metadata": {},
            "source": [
                "### 1. Counting Null Values"
            ]
        },
        {
            "cell_type": "code",
            "execution_count": 4,
            "metadata": {},
            "outputs": [
                {
                    "data": {
                        "text/plain": [
                            "RowNumber          0\n",
                            "CustomerId         0\n",
                            "Surname            0\n",
                            "CreditScore        0\n",
                            "Geography          0\n",
                            "Gender             0\n",
                            "Age                0\n",
                            "Tenure             0\n",
                            "Balance            0\n",
                            "NumOfProducts      0\n",
                            "HasCrCard          0\n",
                            "IsActiveMember     0\n",
                            "EstimatedSalary    0\n",
                            "Exited             0\n",
                            "dtype: int64"
                        ]
                    },
                    "execution_count": 4,
                    "metadata": {},
                    "output_type": "execute_result"
                }
            ],
            "source": [
                "null_values = df.isnull().sum()\n",
                "null_values"
            ]
        },
        {
            "cell_type": "markdown",
            "metadata": {},
            "source": [
                "### 2. Counting Duplicates"
            ]
        },
        {
            "cell_type": "code",
            "execution_count": 5,
            "metadata": {},
            "outputs": [
                {
                    "data": {
                        "text/plain": [
                            "0"
                        ]
                    },
                    "execution_count": 5,
                    "metadata": {},
                    "output_type": "execute_result"
                }
            ],
            "source": [
                "duplicates = df.duplicated().sum()\n",
                "duplicates"
            ]
        },
        {
            "cell_type": "markdown",
            "metadata": {},
            "source": [
                "### 3. Exited Customer Distribution Analysis"
            ]
        },
        {
            "cell_type": "code",
            "execution_count": 6,
            "metadata": {},
            "outputs": [
                {
                    "data": {
                        "text/plain": [
                            "Exited\n",
                            "0    7963\n",
                            "1    2037\n",
                            "Name: count, dtype: int64"
                        ]
                    },
                    "execution_count": 6,
                    "metadata": {},
                    "output_type": "execute_result"
                }
            ],
            "source": [
                "values = df['Exited'].value_counts()\n",
                "values"
            ]
        },
        {
            "cell_type": "markdown",
            "metadata": {},
            "source": [
                "### 4. Removing Unnecessary Columns"
            ]
        },
        {
            "cell_type": "code",
            "execution_count": 7,
            "metadata": {},
            "outputs": [
                {
                    "data": {
                        "text/html": [
                            "<div>\n",
                            "<style scoped>\n",
                            "    .dataframe tbody tr th:only-of-type {\n",
                            "        vertical-align: middle;\n",
                            "    }\n",
                            "\n",
                            "    .dataframe tbody tr th {\n",
                            "        vertical-align: top;\n",
                            "    }\n",
                            "\n",
                            "    .dataframe thead th {\n",
                            "        text-align: right;\n",
                            "    }\n",
                            "</style>\n",
                            "<table border=\"1\" class=\"dataframe\">\n",
                            "  <thead>\n",
                            "    <tr style=\"text-align: right;\">\n",
                            "      <th></th>\n",
                            "      <th>CreditScore</th>\n",
                            "      <th>Geography</th>\n",
                            "      <th>Gender</th>\n",
                            "      <th>Age</th>\n",
                            "      <th>Tenure</th>\n",
                            "      <th>Balance</th>\n",
                            "      <th>NumOfProducts</th>\n",
                            "      <th>HasCrCard</th>\n",
                            "      <th>IsActiveMember</th>\n",
                            "      <th>EstimatedSalary</th>\n",
                            "      <th>Exited</th>\n",
                            "    </tr>\n",
                            "  </thead>\n",
                            "  <tbody>\n",
                            "    <tr>\n",
                            "      <th>0</th>\n",
                            "      <td>619</td>\n",
                            "      <td>France</td>\n",
                            "      <td>Female</td>\n",
                            "      <td>42</td>\n",
                            "      <td>2</td>\n",
                            "      <td>0.00</td>\n",
                            "      <td>1</td>\n",
                            "      <td>1</td>\n",
                            "      <td>1</td>\n",
                            "      <td>101348.88</td>\n",
                            "      <td>1</td>\n",
                            "    </tr>\n",
                            "    <tr>\n",
                            "      <th>1</th>\n",
                            "      <td>608</td>\n",
                            "      <td>Spain</td>\n",
                            "      <td>Female</td>\n",
                            "      <td>41</td>\n",
                            "      <td>1</td>\n",
                            "      <td>83807.86</td>\n",
                            "      <td>1</td>\n",
                            "      <td>0</td>\n",
                            "      <td>1</td>\n",
                            "      <td>112542.58</td>\n",
                            "      <td>0</td>\n",
                            "    </tr>\n",
                            "    <tr>\n",
                            "      <th>2</th>\n",
                            "      <td>502</td>\n",
                            "      <td>France</td>\n",
                            "      <td>Female</td>\n",
                            "      <td>42</td>\n",
                            "      <td>8</td>\n",
                            "      <td>159660.80</td>\n",
                            "      <td>3</td>\n",
                            "      <td>1</td>\n",
                            "      <td>0</td>\n",
                            "      <td>113931.57</td>\n",
                            "      <td>1</td>\n",
                            "    </tr>\n",
                            "    <tr>\n",
                            "      <th>3</th>\n",
                            "      <td>699</td>\n",
                            "      <td>France</td>\n",
                            "      <td>Female</td>\n",
                            "      <td>39</td>\n",
                            "      <td>1</td>\n",
                            "      <td>0.00</td>\n",
                            "      <td>2</td>\n",
                            "      <td>0</td>\n",
                            "      <td>0</td>\n",
                            "      <td>93826.63</td>\n",
                            "      <td>0</td>\n",
                            "    </tr>\n",
                            "    <tr>\n",
                            "      <th>4</th>\n",
                            "      <td>850</td>\n",
                            "      <td>Spain</td>\n",
                            "      <td>Female</td>\n",
                            "      <td>43</td>\n",
                            "      <td>2</td>\n",
                            "      <td>125510.82</td>\n",
                            "      <td>1</td>\n",
                            "      <td>1</td>\n",
                            "      <td>1</td>\n",
                            "      <td>79084.10</td>\n",
                            "      <td>0</td>\n",
                            "    </tr>\n",
                            "    <tr>\n",
                            "      <th>...</th>\n",
                            "      <td>...</td>\n",
                            "      <td>...</td>\n",
                            "      <td>...</td>\n",
                            "      <td>...</td>\n",
                            "      <td>...</td>\n",
                            "      <td>...</td>\n",
                            "      <td>...</td>\n",
                            "      <td>...</td>\n",
                            "      <td>...</td>\n",
                            "      <td>...</td>\n",
                            "      <td>...</td>\n",
                            "    </tr>\n",
                            "    <tr>\n",
                            "      <th>9995</th>\n",
                            "      <td>771</td>\n",
                            "      <td>France</td>\n",
                            "      <td>Male</td>\n",
                            "      <td>39</td>\n",
                            "      <td>5</td>\n",
                            "      <td>0.00</td>\n",
                            "      <td>2</td>\n",
                            "      <td>1</td>\n",
                            "      <td>0</td>\n",
                            "      <td>96270.64</td>\n",
                            "      <td>0</td>\n",
                            "    </tr>\n",
                            "    <tr>\n",
                            "      <th>9996</th>\n",
                            "      <td>516</td>\n",
                            "      <td>France</td>\n",
                            "      <td>Male</td>\n",
                            "      <td>35</td>\n",
                            "      <td>10</td>\n",
                            "      <td>57369.61</td>\n",
                            "      <td>1</td>\n",
                            "      <td>1</td>\n",
                            "      <td>1</td>\n",
                            "      <td>101699.77</td>\n",
                            "      <td>0</td>\n",
                            "    </tr>\n",
                            "    <tr>\n",
                            "      <th>9997</th>\n",
                            "      <td>709</td>\n",
                            "      <td>France</td>\n",
                            "      <td>Female</td>\n",
                            "      <td>36</td>\n",
                            "      <td>7</td>\n",
                            "      <td>0.00</td>\n",
                            "      <td>1</td>\n",
                            "      <td>0</td>\n",
                            "      <td>1</td>\n",
                            "      <td>42085.58</td>\n",
                            "      <td>1</td>\n",
                            "    </tr>\n",
                            "    <tr>\n",
                            "      <th>9998</th>\n",
                            "      <td>772</td>\n",
                            "      <td>Germany</td>\n",
                            "      <td>Male</td>\n",
                            "      <td>42</td>\n",
                            "      <td>3</td>\n",
                            "      <td>75075.31</td>\n",
                            "      <td>2</td>\n",
                            "      <td>1</td>\n",
                            "      <td>0</td>\n",
                            "      <td>92888.52</td>\n",
                            "      <td>1</td>\n",
                            "    </tr>\n",
                            "    <tr>\n",
                            "      <th>9999</th>\n",
                            "      <td>792</td>\n",
                            "      <td>France</td>\n",
                            "      <td>Female</td>\n",
                            "      <td>28</td>\n",
                            "      <td>4</td>\n",
                            "      <td>130142.79</td>\n",
                            "      <td>1</td>\n",
                            "      <td>1</td>\n",
                            "      <td>0</td>\n",
                            "      <td>38190.78</td>\n",
                            "      <td>0</td>\n",
                            "    </tr>\n",
                            "  </tbody>\n",
                            "</table>\n",
                            "<p>10000 rows × 11 columns</p>\n",
                            "</div>"
                        ],
                        "text/plain": [
                            "      CreditScore Geography  Gender  Age  Tenure    Balance  NumOfProducts  \\\n",
                            "0             619    France  Female   42       2       0.00              1   \n",
                            "1             608     Spain  Female   41       1   83807.86              1   \n",
                            "2             502    France  Female   42       8  159660.80              3   \n",
                            "3             699    France  Female   39       1       0.00              2   \n",
                            "4             850     Spain  Female   43       2  125510.82              1   \n",
                            "...           ...       ...     ...  ...     ...        ...            ...   \n",
                            "9995          771    France    Male   39       5       0.00              2   \n",
                            "9996          516    France    Male   35      10   57369.61              1   \n",
                            "9997          709    France  Female   36       7       0.00              1   \n",
                            "9998          772   Germany    Male   42       3   75075.31              2   \n",
                            "9999          792    France  Female   28       4  130142.79              1   \n",
                            "\n",
                            "      HasCrCard  IsActiveMember  EstimatedSalary  Exited  \n",
                            "0             1               1        101348.88       1  \n",
                            "1             0               1        112542.58       0  \n",
                            "2             1               0        113931.57       1  \n",
                            "3             0               0         93826.63       0  \n",
                            "4             1               1         79084.10       0  \n",
                            "...         ...             ...              ...     ...  \n",
                            "9995          1               0         96270.64       0  \n",
                            "9996          1               1        101699.77       0  \n",
                            "9997          0               1         42085.58       1  \n",
                            "9998          1               0         92888.52       1  \n",
                            "9999          1               0         38190.78       0  \n",
                            "\n",
                            "[10000 rows x 11 columns]"
                        ]
                    },
                    "execution_count": 7,
                    "metadata": {},
                    "output_type": "execute_result"
                }
            ],
            "source": [
                "df = df.drop(columns=['RowNumber', 'CustomerId', 'Surname'])\n",
                "df"
            ]
        },
        {
            "cell_type": "markdown",
            "metadata": {},
            "source": [
                "### 5. Categorizing Dataset Columns (numerical and nominal types)"
            ]
        },
        {
            "cell_type": "code",
            "execution_count": 8,
            "metadata": {},
            "outputs": [
                {
                    "data": {
                        "text/plain": [
                            "[['EstimatedSalary', 'Balance', 'CreditScore', 'Age'],\n",
                            " ['HasCrCard',\n",
                            "  'IsActiveMember',\n",
                            "  'Geography',\n",
                            "  'Gender',\n",
                            "  'NumOfProducts',\n",
                            "  'Tenure']]"
                        ]
                    },
                    "execution_count": 8,
                    "metadata": {},
                    "output_type": "execute_result"
                }
            ],
            "source": [
                "numbCol = ['EstimatedSalary', 'Balance', 'CreditScore', 'Age']\n",
                "nomCol =  ['HasCrCard', 'IsActiveMember', 'Geography', 'Gender', 'NumOfProducts', 'Tenure']\n",
                "\n",
                "[numbCol,nomCol]"
            ]
        },
        {
            "cell_type": "markdown",
            "metadata": {},
            "source": [
                "### 6. Outlier Detection Analysis"
            ]
        },
        {
            "cell_type": "code",
            "execution_count": 9,
            "metadata": {},
            "outputs": [
                {
                    "data": {
                        "text/plain": [
                            "{'EstimatedSalary': 0, 'Balance': 0, 'CreditScore': 8, 'Age': 133}"
                        ]
                    },
                    "execution_count": 9,
                    "metadata": {},
                    "output_type": "execute_result"
                }
            ],
            "source": [
                "from scipy import stats\n",
                "\n",
                "# Define the threshold for outlier detection (the threshold is set to 3 standard deviations from the mean)\n",
                "threshold = 3\n",
                "\n",
                "# Create a dictionary to store the count of outliers for each column\n",
                "outlier_counts = {}\n",
                "\n",
                "# Iterate over each numerical column\n",
                "for col in numbCol:\n",
                "\n",
                "    # Calculate Z-scores for the current column\n",
                "    z_scores = stats.zscore(df[col])\n",
                "    \n",
                "    # Find outliers\n",
                "    outliers = abs(z_scores) > threshold\n",
                "    \n",
                "    # Count the number of outliers for the current column\n",
                "    outlier_count = outliers.sum()\n",
                "    \n",
                "    # Store the count of outliers for the current column in the dictionary\n",
                "    outlier_counts[col] = outlier_count\n",
                "    \n",
                "outlier_counts"
            ]
        },
        {
            "cell_type": "markdown",
            "metadata": {},
            "source": [
                "##### Insight:\n",
                "---------------------\n",
                "We've found outliers in two columns. Before removing them, we need to ensure that it's okay to drop them. \n",
                "Because age can be any number, although we set one limit and check for real outliers. This examination is crucial for maintaining data integrity and reliability in subsequent analyses"
            ]
        },
        {
            "cell_type": "markdown",
            "metadata": {},
            "source": [
                "### 7. Age Data Integrity Check"
            ]
        },
        {
            "cell_type": "code",
            "execution_count": 10,
            "metadata": {},
            "outputs": [
                {
                    "data": {
                        "text/plain": [
                            "0"
                        ]
                    },
                    "execution_count": 10,
                    "metadata": {},
                    "output_type": "execute_result"
                }
            ],
            "source": [
                "# Filter the DataFrame for values in the \"Age\" column greater than 100 and less than 1 \n",
                "ages_check = len(df[(df['Age'] < 1) | (df['Age'] > 100)])\n",
                "ages_check"
            ]
        },
        {
            "cell_type": "markdown",
            "metadata": {},
            "source": [
                "##### Insights\n",
                "--------------\n",
                "- We have no real outliers in the Age column\n"
            ]
        },
        {
            "cell_type": "markdown",
            "metadata": {},
            "source": [
                "### 8. Credit Score Data Integrity Check"
            ]
        },
        {
            "cell_type": "markdown",
            "metadata": {},
            "source": [
                "- the credit score typically ranges from 300 to 900"
            ]
        },
        {
            "cell_type": "code",
            "execution_count": 11,
            "metadata": {},
            "outputs": [
                {
                    "data": {
                        "text/plain": [
                            "0"
                        ]
                    },
                    "execution_count": 11,
                    "metadata": {},
                    "output_type": "execute_result"
                }
            ],
            "source": [
                "# Filter the DataFrame for values in the \"Age\" column greater than 900 and less than 300\n",
                "credit_check = len(df[(df['CreditScore'] < 300) | (df['CreditScore'] > 900)])\n",
                "credit_check"
            ]
        },
        {
            "cell_type": "markdown",
            "metadata": {},
            "source": [
                "##### Insight:\n",
                "------------\n",
                "- There are no real outliers in the credit score column either"
            ]
        },
        {
            "cell_type": "markdown",
            "metadata": {},
            "source": [
                "### 9. Converting Estimated Salary and Balance to Integer Data Type"
            ]
        },
        {
            "cell_type": "code",
            "execution_count": 12,
            "metadata": {},
            "outputs": [
                {
                    "data": {
                        "text/plain": [
                            "(dtype('int32'), dtype('int32'))"
                        ]
                    },
                    "execution_count": 12,
                    "metadata": {},
                    "output_type": "execute_result"
                }
            ],
            "source": [
                "df['EstimatedSalary'] = df['EstimatedSalary'].astype(int)\n",
                "df['Balance'] = df['Balance'].astype(int)\n",
                "\n",
                "df['EstimatedSalary'].dtype, df['Balance'].dtype"
            ]
        },
        {
            "cell_type": "markdown",
            "metadata": {},
            "source": [
                "### 10. Label Encoding for Categorical Data"
            ]
        },
        {
            "cell_type": "code",
            "execution_count": 13,
            "metadata": {},
            "outputs": [
                {
                    "data": {
                        "text/plain": [
                            "[array([0, 1]), array([0, 2, 1])]"
                        ]
                    },
                    "execution_count": 13,
                    "metadata": {},
                    "output_type": "execute_result"
                }
            ],
            "source": [
                "le = LabelEncoder()\n",
                "lstforle = ['Geography', 'Gender']\n",
                "for col in lstforle:\n",
                "    df[col] = le.fit_transform(df[col])\n",
                "\n",
                "\n",
                "[df['Gender'].unique(), \n",
                "df['Geography'].unique()] "
            ]
        },
        {
            "cell_type": "markdown",
            "metadata": {},
            "source": [
                "### 11. Percentage of Churned Customers based on Credit Card Ownership"
            ]
        },
        {
            "cell_type": "markdown",
            "metadata": {},
            "source": [
                "- check how the column (HasCrCard) relates to the 'Exited' column. This analysis helps us understand how credit card services affect customer retention strategies"
            ]
        },
        {
            "cell_type": "code",
            "execution_count": 14,
            "metadata": {},
            "outputs": [
                {
                    "data": {
                        "text/plain": [
                            "HasCrCard\n",
                            "0    20.814941\n",
                            "1    20.184266\n",
                            "Name: Exited, dtype: float64"
                        ]
                    },
                    "execution_count": 14,
                    "metadata": {},
                    "output_type": "execute_result"
                }
            ],
            "source": [
                "credit_churn_percentage = df.groupby('HasCrCard')['Exited'].mean()*100\n",
                "credit_churn_percentage"
            ]
        },
        {
            "cell_type": "markdown",
            "metadata": {},
            "source": [
                "##### Insights:\n",
                "--------------\n",
                "- credit card services have no impact on customer retention"
            ]
        },
        {
            "cell_type": "markdown",
            "metadata": {},
            "source": [
                "### 12. Removing Credit Card Ownership Column"
            ]
        },
        {
            "cell_type": "code",
            "execution_count": 15,
            "metadata": {},
            "outputs": [
                {
                    "data": {
                        "text/html": [
                            "<div>\n",
                            "<style scoped>\n",
                            "    .dataframe tbody tr th:only-of-type {\n",
                            "        vertical-align: middle;\n",
                            "    }\n",
                            "\n",
                            "    .dataframe tbody tr th {\n",
                            "        vertical-align: top;\n",
                            "    }\n",
                            "\n",
                            "    .dataframe thead th {\n",
                            "        text-align: right;\n",
                            "    }\n",
                            "</style>\n",
                            "<table border=\"1\" class=\"dataframe\">\n",
                            "  <thead>\n",
                            "    <tr style=\"text-align: right;\">\n",
                            "      <th></th>\n",
                            "      <th>CreditScore</th>\n",
                            "      <th>Geography</th>\n",
                            "      <th>Gender</th>\n",
                            "      <th>Age</th>\n",
                            "      <th>Tenure</th>\n",
                            "      <th>Balance</th>\n",
                            "      <th>NumOfProducts</th>\n",
                            "      <th>IsActiveMember</th>\n",
                            "      <th>EstimatedSalary</th>\n",
                            "      <th>Exited</th>\n",
                            "    </tr>\n",
                            "  </thead>\n",
                            "  <tbody>\n",
                            "    <tr>\n",
                            "      <th>0</th>\n",
                            "      <td>619</td>\n",
                            "      <td>0</td>\n",
                            "      <td>0</td>\n",
                            "      <td>42</td>\n",
                            "      <td>2</td>\n",
                            "      <td>0</td>\n",
                            "      <td>1</td>\n",
                            "      <td>1</td>\n",
                            "      <td>101348</td>\n",
                            "      <td>1</td>\n",
                            "    </tr>\n",
                            "    <tr>\n",
                            "      <th>1</th>\n",
                            "      <td>608</td>\n",
                            "      <td>2</td>\n",
                            "      <td>0</td>\n",
                            "      <td>41</td>\n",
                            "      <td>1</td>\n",
                            "      <td>83807</td>\n",
                            "      <td>1</td>\n",
                            "      <td>1</td>\n",
                            "      <td>112542</td>\n",
                            "      <td>0</td>\n",
                            "    </tr>\n",
                            "    <tr>\n",
                            "      <th>2</th>\n",
                            "      <td>502</td>\n",
                            "      <td>0</td>\n",
                            "      <td>0</td>\n",
                            "      <td>42</td>\n",
                            "      <td>8</td>\n",
                            "      <td>159660</td>\n",
                            "      <td>3</td>\n",
                            "      <td>0</td>\n",
                            "      <td>113931</td>\n",
                            "      <td>1</td>\n",
                            "    </tr>\n",
                            "    <tr>\n",
                            "      <th>3</th>\n",
                            "      <td>699</td>\n",
                            "      <td>0</td>\n",
                            "      <td>0</td>\n",
                            "      <td>39</td>\n",
                            "      <td>1</td>\n",
                            "      <td>0</td>\n",
                            "      <td>2</td>\n",
                            "      <td>0</td>\n",
                            "      <td>93826</td>\n",
                            "      <td>0</td>\n",
                            "    </tr>\n",
                            "    <tr>\n",
                            "      <th>4</th>\n",
                            "      <td>850</td>\n",
                            "      <td>2</td>\n",
                            "      <td>0</td>\n",
                            "      <td>43</td>\n",
                            "      <td>2</td>\n",
                            "      <td>125510</td>\n",
                            "      <td>1</td>\n",
                            "      <td>1</td>\n",
                            "      <td>79084</td>\n",
                            "      <td>0</td>\n",
                            "    </tr>\n",
                            "    <tr>\n",
                            "      <th>...</th>\n",
                            "      <td>...</td>\n",
                            "      <td>...</td>\n",
                            "      <td>...</td>\n",
                            "      <td>...</td>\n",
                            "      <td>...</td>\n",
                            "      <td>...</td>\n",
                            "      <td>...</td>\n",
                            "      <td>...</td>\n",
                            "      <td>...</td>\n",
                            "      <td>...</td>\n",
                            "    </tr>\n",
                            "    <tr>\n",
                            "      <th>9995</th>\n",
                            "      <td>771</td>\n",
                            "      <td>0</td>\n",
                            "      <td>1</td>\n",
                            "      <td>39</td>\n",
                            "      <td>5</td>\n",
                            "      <td>0</td>\n",
                            "      <td>2</td>\n",
                            "      <td>0</td>\n",
                            "      <td>96270</td>\n",
                            "      <td>0</td>\n",
                            "    </tr>\n",
                            "    <tr>\n",
                            "      <th>9996</th>\n",
                            "      <td>516</td>\n",
                            "      <td>0</td>\n",
                            "      <td>1</td>\n",
                            "      <td>35</td>\n",
                            "      <td>10</td>\n",
                            "      <td>57369</td>\n",
                            "      <td>1</td>\n",
                            "      <td>1</td>\n",
                            "      <td>101699</td>\n",
                            "      <td>0</td>\n",
                            "    </tr>\n",
                            "    <tr>\n",
                            "      <th>9997</th>\n",
                            "      <td>709</td>\n",
                            "      <td>0</td>\n",
                            "      <td>0</td>\n",
                            "      <td>36</td>\n",
                            "      <td>7</td>\n",
                            "      <td>0</td>\n",
                            "      <td>1</td>\n",
                            "      <td>1</td>\n",
                            "      <td>42085</td>\n",
                            "      <td>1</td>\n",
                            "    </tr>\n",
                            "    <tr>\n",
                            "      <th>9998</th>\n",
                            "      <td>772</td>\n",
                            "      <td>1</td>\n",
                            "      <td>1</td>\n",
                            "      <td>42</td>\n",
                            "      <td>3</td>\n",
                            "      <td>75075</td>\n",
                            "      <td>2</td>\n",
                            "      <td>0</td>\n",
                            "      <td>92888</td>\n",
                            "      <td>1</td>\n",
                            "    </tr>\n",
                            "    <tr>\n",
                            "      <th>9999</th>\n",
                            "      <td>792</td>\n",
                            "      <td>0</td>\n",
                            "      <td>0</td>\n",
                            "      <td>28</td>\n",
                            "      <td>4</td>\n",
                            "      <td>130142</td>\n",
                            "      <td>1</td>\n",
                            "      <td>0</td>\n",
                            "      <td>38190</td>\n",
                            "      <td>0</td>\n",
                            "    </tr>\n",
                            "  </tbody>\n",
                            "</table>\n",
                            "<p>10000 rows × 10 columns</p>\n",
                            "</div>"
                        ],
                        "text/plain": [
                            "      CreditScore  Geography  Gender  Age  Tenure  Balance  NumOfProducts  \\\n",
                            "0             619          0       0   42       2        0              1   \n",
                            "1             608          2       0   41       1    83807              1   \n",
                            "2             502          0       0   42       8   159660              3   \n",
                            "3             699          0       0   39       1        0              2   \n",
                            "4             850          2       0   43       2   125510              1   \n",
                            "...           ...        ...     ...  ...     ...      ...            ...   \n",
                            "9995          771          0       1   39       5        0              2   \n",
                            "9996          516          0       1   35      10    57369              1   \n",
                            "9997          709          0       0   36       7        0              1   \n",
                            "9998          772          1       1   42       3    75075              2   \n",
                            "9999          792          0       0   28       4   130142              1   \n",
                            "\n",
                            "      IsActiveMember  EstimatedSalary  Exited  \n",
                            "0                  1           101348       1  \n",
                            "1                  1           112542       0  \n",
                            "2                  0           113931       1  \n",
                            "3                  0            93826       0  \n",
                            "4                  1            79084       0  \n",
                            "...              ...              ...     ...  \n",
                            "9995               0            96270       0  \n",
                            "9996               1           101699       0  \n",
                            "9997               1            42085       1  \n",
                            "9998               0            92888       1  \n",
                            "9999               0            38190       0  \n",
                            "\n",
                            "[10000 rows x 10 columns]"
                        ]
                    },
                    "execution_count": 15,
                    "metadata": {},
                    "output_type": "execute_result"
                }
            ],
            "source": [
                "df = df.drop('HasCrCard', axis=1)\n",
                "df"
            ]
        },
        {
            "cell_type": "markdown",
            "metadata": {},
            "source": [
                "___________"
            ]
        },
        {
            "cell_type": "markdown",
            "metadata": {},
            "source": [
                "## Visually verify results "
            ]
        },
        {
            "cell_type": "code",
            "execution_count": 16,
            "metadata": {},
            "outputs": [
                {
                    "name": "stdout",
                    "output_type": "stream",
                    "text": [
                        "Germany\n",
                        "1\n"
                    ]
                }
            ],
            "source": [
                "i = df.sample(1).index[0]\n",
                "print(raw_df['Geography'].iloc[i])\n",
                "print(df['Geography'].iloc[i])"
            ]
        },
        {
            "cell_type": "code",
            "execution_count": 17,
            "metadata": {},
            "outputs": [
                {
                    "name": "stdout",
                    "output_type": "stream",
                    "text": [
                        "Female\n",
                        "0\n"
                    ]
                }
            ],
            "source": [
                "i = df.sample(1).index[0]\n",
                "print(raw_df['Gender'].iloc[i])\n",
                "print(df['Gender'].iloc[i])"
            ]
        },
        {
            "cell_type": "markdown",
            "metadata": {},
            "source": [
                "# Export Data "
            ]
        },
        {
            "cell_type": "code",
            "execution_count": 18,
            "metadata": {},
            "outputs": [],
            "source": [
                "df.to_pickle(EXPORT_PATH)"
            ]
        },
        {
            "cell_type": "markdown",
            "metadata": {},
            "source": [
                "---"
            ]
        },
        {
            "cell_type": "markdown",
            "metadata": {},
            "source": []
        },
        {
            "cell_type": "code",
            "execution_count": 20,
            "metadata": {},
            "outputs": [
                {
                    "data": {
                        "text/html": [
                            "<div>\n",
                            "<style scoped>\n",
                            "    .dataframe tbody tr th:only-of-type {\n",
                            "        vertical-align: middle;\n",
                            "    }\n",
                            "\n",
                            "    .dataframe tbody tr th {\n",
                            "        vertical-align: top;\n",
                            "    }\n",
                            "\n",
                            "    .dataframe thead th {\n",
                            "        text-align: right;\n",
                            "    }\n",
                            "</style>\n",
                            "<table border=\"1\" class=\"dataframe\">\n",
                            "  <thead>\n",
                            "    <tr style=\"text-align: right;\">\n",
                            "      <th></th>\n",
                            "      <th>CreditScore</th>\n",
                            "      <th>Geography</th>\n",
                            "      <th>Gender</th>\n",
                            "      <th>Age</th>\n",
                            "      <th>Tenure</th>\n",
                            "      <th>Balance</th>\n",
                            "      <th>NumOfProducts</th>\n",
                            "      <th>IsActiveMember</th>\n",
                            "      <th>EstimatedSalary</th>\n",
                            "      <th>Exited</th>\n",
                            "    </tr>\n",
                            "  </thead>\n",
                            "  <tbody>\n",
                            "    <tr>\n",
                            "      <th>0</th>\n",
                            "      <td>619</td>\n",
                            "      <td>0</td>\n",
                            "      <td>0</td>\n",
                            "      <td>42</td>\n",
                            "      <td>2</td>\n",
                            "      <td>0</td>\n",
                            "      <td>1</td>\n",
                            "      <td>1</td>\n",
                            "      <td>101348</td>\n",
                            "      <td>1</td>\n",
                            "    </tr>\n",
                            "    <tr>\n",
                            "      <th>1</th>\n",
                            "      <td>608</td>\n",
                            "      <td>2</td>\n",
                            "      <td>0</td>\n",
                            "      <td>41</td>\n",
                            "      <td>1</td>\n",
                            "      <td>83807</td>\n",
                            "      <td>1</td>\n",
                            "      <td>1</td>\n",
                            "      <td>112542</td>\n",
                            "      <td>0</td>\n",
                            "    </tr>\n",
                            "    <tr>\n",
                            "      <th>2</th>\n",
                            "      <td>502</td>\n",
                            "      <td>0</td>\n",
                            "      <td>0</td>\n",
                            "      <td>42</td>\n",
                            "      <td>8</td>\n",
                            "      <td>159660</td>\n",
                            "      <td>3</td>\n",
                            "      <td>0</td>\n",
                            "      <td>113931</td>\n",
                            "      <td>1</td>\n",
                            "    </tr>\n",
                            "    <tr>\n",
                            "      <th>3</th>\n",
                            "      <td>699</td>\n",
                            "      <td>0</td>\n",
                            "      <td>0</td>\n",
                            "      <td>39</td>\n",
                            "      <td>1</td>\n",
                            "      <td>0</td>\n",
                            "      <td>2</td>\n",
                            "      <td>0</td>\n",
                            "      <td>93826</td>\n",
                            "      <td>0</td>\n",
                            "    </tr>\n",
                            "    <tr>\n",
                            "      <th>4</th>\n",
                            "      <td>850</td>\n",
                            "      <td>2</td>\n",
                            "      <td>0</td>\n",
                            "      <td>43</td>\n",
                            "      <td>2</td>\n",
                            "      <td>125510</td>\n",
                            "      <td>1</td>\n",
                            "      <td>1</td>\n",
                            "      <td>79084</td>\n",
                            "      <td>0</td>\n",
                            "    </tr>\n",
                            "    <tr>\n",
                            "      <th>...</th>\n",
                            "      <td>...</td>\n",
                            "      <td>...</td>\n",
                            "      <td>...</td>\n",
                            "      <td>...</td>\n",
                            "      <td>...</td>\n",
                            "      <td>...</td>\n",
                            "      <td>...</td>\n",
                            "      <td>...</td>\n",
                            "      <td>...</td>\n",
                            "      <td>...</td>\n",
                            "    </tr>\n",
                            "    <tr>\n",
                            "      <th>9995</th>\n",
                            "      <td>771</td>\n",
                            "      <td>0</td>\n",
                            "      <td>1</td>\n",
                            "      <td>39</td>\n",
                            "      <td>5</td>\n",
                            "      <td>0</td>\n",
                            "      <td>2</td>\n",
                            "      <td>0</td>\n",
                            "      <td>96270</td>\n",
                            "      <td>0</td>\n",
                            "    </tr>\n",
                            "    <tr>\n",
                            "      <th>9996</th>\n",
                            "      <td>516</td>\n",
                            "      <td>0</td>\n",
                            "      <td>1</td>\n",
                            "      <td>35</td>\n",
                            "      <td>10</td>\n",
                            "      <td>57369</td>\n",
                            "      <td>1</td>\n",
                            "      <td>1</td>\n",
                            "      <td>101699</td>\n",
                            "      <td>0</td>\n",
                            "    </tr>\n",
                            "    <tr>\n",
                            "      <th>9997</th>\n",
                            "      <td>709</td>\n",
                            "      <td>0</td>\n",
                            "      <td>0</td>\n",
                            "      <td>36</td>\n",
                            "      <td>7</td>\n",
                            "      <td>0</td>\n",
                            "      <td>1</td>\n",
                            "      <td>1</td>\n",
                            "      <td>42085</td>\n",
                            "      <td>1</td>\n",
                            "    </tr>\n",
                            "    <tr>\n",
                            "      <th>9998</th>\n",
                            "      <td>772</td>\n",
                            "      <td>1</td>\n",
                            "      <td>1</td>\n",
                            "      <td>42</td>\n",
                            "      <td>3</td>\n",
                            "      <td>75075</td>\n",
                            "      <td>2</td>\n",
                            "      <td>0</td>\n",
                            "      <td>92888</td>\n",
                            "      <td>1</td>\n",
                            "    </tr>\n",
                            "    <tr>\n",
                            "      <th>9999</th>\n",
                            "      <td>792</td>\n",
                            "      <td>0</td>\n",
                            "      <td>0</td>\n",
                            "      <td>28</td>\n",
                            "      <td>4</td>\n",
                            "      <td>130142</td>\n",
                            "      <td>1</td>\n",
                            "      <td>0</td>\n",
                            "      <td>38190</td>\n",
                            "      <td>0</td>\n",
                            "    </tr>\n",
                            "  </tbody>\n",
                            "</table>\n",
                            "<p>10000 rows × 10 columns</p>\n",
                            "</div>"
                        ],
                        "text/plain": [
                            "      CreditScore  Geography  Gender  Age  Tenure  Balance  NumOfProducts  \\\n",
                            "0             619          0       0   42       2        0              1   \n",
                            "1             608          2       0   41       1    83807              1   \n",
                            "2             502          0       0   42       8   159660              3   \n",
                            "3             699          0       0   39       1        0              2   \n",
                            "4             850          2       0   43       2   125510              1   \n",
                            "...           ...        ...     ...  ...     ...      ...            ...   \n",
                            "9995          771          0       1   39       5        0              2   \n",
                            "9996          516          0       1   35      10    57369              1   \n",
                            "9997          709          0       0   36       7        0              1   \n",
                            "9998          772          1       1   42       3    75075              2   \n",
                            "9999          792          0       0   28       4   130142              1   \n",
                            "\n",
                            "      IsActiveMember  EstimatedSalary  Exited  \n",
                            "0                  1           101348       1  \n",
                            "1                  1           112542       0  \n",
                            "2                  0           113931       1  \n",
                            "3                  0            93826       0  \n",
                            "4                  1            79084       0  \n",
                            "...              ...              ...     ...  \n",
                            "9995               0            96270       0  \n",
                            "9996               1           101699       0  \n",
                            "9997               1            42085       1  \n",
                            "9998               0            92888       1  \n",
                            "9999               0            38190       0  \n",
                            "\n",
                            "[10000 rows x 10 columns]"
                        ]
                    },
                    "execution_count": 20,
                    "metadata": {},
                    "output_type": "execute_result"
                }
            ],
            "source": [
                "pd.read_pickle(EXPORT_PATH)"
            ]
        },
        {
            "cell_type": "code",
            "execution_count": 23,
            "metadata": {},
            "outputs": [
                {
                    "data": {
                        "text/plain": [
                            "Index(['CreditScore', 'Geography', 'Gender', 'Age', 'Tenure', 'Balance',\n",
                            "       'NumOfProducts', 'IsActiveMember', 'EstimatedSalary', 'Exited'],\n",
                            "      dtype='object')"
                        ]
                    },
                    "execution_count": 23,
                    "metadata": {},
                    "output_type": "execute_result"
                }
            ],
            "source": [
                "df.columns"
            ]
        },
        {
            "cell_type": "code",
            "execution_count": 24,
            "metadata": {},
            "outputs": [
                {
                    "data": {
                        "text/plain": [
                            "CreditScore        int64\n",
                            "Geography          int32\n",
                            "Gender             int32\n",
                            "Age                int64\n",
                            "Tenure             int64\n",
                            "Balance            int32\n",
                            "NumOfProducts      int64\n",
                            "IsActiveMember     int64\n",
                            "EstimatedSalary    int32\n",
                            "Exited             int64\n",
                            "dtype: object"
                        ]
                    },
                    "execution_count": 24,
                    "metadata": {},
                    "output_type": "execute_result"
                }
            ],
            "source": [
                "df.dtypes"
            ]
        },
        {
            "cell_type": "code",
            "execution_count": null,
            "metadata": {},
            "outputs": [],
            "source": []
        }
    ],
    "metadata": {
        "kernelspec": {
            "display_name": "Python 3",
            "language": "python",
            "name": "python3"
        },
        "language_info": {
            "codemirror_mode": {
                "name": "ipython",
                "version": 3
            },
            "file_extension": ".py",
            "mimetype": "text/x-python",
            "name": "python",
            "nbconvert_exporter": "python",
            "pygments_lexer": "ipython3",
            "version": "3.8.19"
        }
    },
    "nbformat": 4,
    "nbformat_minor": 2
}
