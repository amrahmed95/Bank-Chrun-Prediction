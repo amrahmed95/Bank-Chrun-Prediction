{
 "cells": [
  {
   "cell_type": "code",
   "execution_count": 33,
   "metadata": {},
   "outputs": [],
   "source": [
    "MODEL_PATH = '../artifacts/model_trainer/model.joblib'\n",
    "TEST_DATA_PATH = '../artifacts/data_transformation/test.pkl'"
   ]
  },
  {
   "cell_type": "code",
   "execution_count": 34,
   "metadata": {},
   "outputs": [
    {
     "data": {
      "text/plain": [
       "'f:\\\\End-to-End-DS-Projects\\\\Bank Churn Prediction\\\\research'"
      ]
     },
     "execution_count": 34,
     "metadata": {},
     "output_type": "execute_result"
    }
   ],
   "source": [
    "import os\n",
    "%pwd"
   ]
  },
  {
   "cell_type": "code",
   "execution_count": 35,
   "metadata": {},
   "outputs": [],
   "source": [
    "# import packages\n",
    "import pandas as pd\n",
    "import numpy as np\n",
    "import matplotlib.pyplot as plt\n",
    "import seaborn as sns\n",
    "%matplotlib inline\n",
    "sns.set()\n",
    "\n",
    "import joblib\n",
    "\n",
    "from sklearn.metrics import accuracy_score, precision_score, recall_score, f1_score"
   ]
  },
  {
   "cell_type": "markdown",
   "metadata": {},
   "source": [
    "### 1. Loading Holdout Dataset for Churn Prediction"
   ]
  },
  {
   "cell_type": "code",
   "execution_count": 36,
   "metadata": {},
   "outputs": [
    {
     "data": {
      "text/html": [
       "<div>\n",
       "<style scoped>\n",
       "    .dataframe tbody tr th:only-of-type {\n",
       "        vertical-align: middle;\n",
       "    }\n",
       "\n",
       "    .dataframe tbody tr th {\n",
       "        vertical-align: top;\n",
       "    }\n",
       "\n",
       "    .dataframe thead th {\n",
       "        text-align: right;\n",
       "    }\n",
       "</style>\n",
       "<table border=\"1\" class=\"dataframe\">\n",
       "  <thead>\n",
       "    <tr style=\"text-align: right;\">\n",
       "      <th></th>\n",
       "      <th>CreditScore</th>\n",
       "      <th>Geography</th>\n",
       "      <th>Gender</th>\n",
       "      <th>Age</th>\n",
       "      <th>Tenure</th>\n",
       "      <th>Balance</th>\n",
       "      <th>NumOfProducts</th>\n",
       "      <th>IsActiveMember</th>\n",
       "      <th>EstimatedSalary</th>\n",
       "      <th>Exited</th>\n",
       "    </tr>\n",
       "  </thead>\n",
       "  <tbody>\n",
       "    <tr>\n",
       "      <th>10878</th>\n",
       "      <td>-0.424660</td>\n",
       "      <td>0</td>\n",
       "      <td>1</td>\n",
       "      <td>1.052984</td>\n",
       "      <td>7</td>\n",
       "      <td>-1.225847</td>\n",
       "      <td>1</td>\n",
       "      <td>0</td>\n",
       "      <td>-1.414024</td>\n",
       "      <td>1</td>\n",
       "    </tr>\n",
       "    <tr>\n",
       "      <th>13564</th>\n",
       "      <td>0.148834</td>\n",
       "      <td>1</td>\n",
       "      <td>0</td>\n",
       "      <td>-0.345823</td>\n",
       "      <td>6</td>\n",
       "      <td>0.050648</td>\n",
       "      <td>1</td>\n",
       "      <td>0</td>\n",
       "      <td>-1.123292</td>\n",
       "      <td>1</td>\n",
       "    </tr>\n",
       "    <tr>\n",
       "      <th>3959</th>\n",
       "      <td>0.129037</td>\n",
       "      <td>1</td>\n",
       "      <td>1</td>\n",
       "      <td>0.960993</td>\n",
       "      <td>7</td>\n",
       "      <td>0.635708</td>\n",
       "      <td>3</td>\n",
       "      <td>1</td>\n",
       "      <td>-0.273559</td>\n",
       "      <td>1</td>\n",
       "    </tr>\n",
       "    <tr>\n",
       "      <th>12402</th>\n",
       "      <td>1.262617</td>\n",
       "      <td>0</td>\n",
       "      <td>0</td>\n",
       "      <td>1.102847</td>\n",
       "      <td>9</td>\n",
       "      <td>0.961190</td>\n",
       "      <td>1</td>\n",
       "      <td>1</td>\n",
       "      <td>-0.427771</td>\n",
       "      <td>1</td>\n",
       "    </tr>\n",
       "    <tr>\n",
       "      <th>14151</th>\n",
       "      <td>0.843973</td>\n",
       "      <td>0</td>\n",
       "      <td>0</td>\n",
       "      <td>0.116270</td>\n",
       "      <td>6</td>\n",
       "      <td>0.285444</td>\n",
       "      <td>1</td>\n",
       "      <td>0</td>\n",
       "      <td>0.514320</td>\n",
       "      <td>1</td>\n",
       "    </tr>\n",
       "    <tr>\n",
       "      <th>...</th>\n",
       "      <td>...</td>\n",
       "      <td>...</td>\n",
       "      <td>...</td>\n",
       "      <td>...</td>\n",
       "      <td>...</td>\n",
       "      <td>...</td>\n",
       "      <td>...</td>\n",
       "      <td>...</td>\n",
       "      <td>...</td>\n",
       "      <td>...</td>\n",
       "    </tr>\n",
       "    <tr>\n",
       "      <th>6713</th>\n",
       "      <td>-0.667665</td>\n",
       "      <td>0</td>\n",
       "      <td>0</td>\n",
       "      <td>0.674932</td>\n",
       "      <td>0</td>\n",
       "      <td>-1.225847</td>\n",
       "      <td>3</td>\n",
       "      <td>1</td>\n",
       "      <td>0.547115</td>\n",
       "      <td>1</td>\n",
       "    </tr>\n",
       "    <tr>\n",
       "      <th>2849</th>\n",
       "      <td>-1.588528</td>\n",
       "      <td>0</td>\n",
       "      <td>1</td>\n",
       "      <td>0.198164</td>\n",
       "      <td>9</td>\n",
       "      <td>-1.225847</td>\n",
       "      <td>1</td>\n",
       "      <td>0</td>\n",
       "      <td>-1.356616</td>\n",
       "      <td>0</td>\n",
       "    </tr>\n",
       "    <tr>\n",
       "      <th>2618</th>\n",
       "      <td>-1.578181</td>\n",
       "      <td>0</td>\n",
       "      <td>0</td>\n",
       "      <td>-0.850726</td>\n",
       "      <td>1</td>\n",
       "      <td>-1.225847</td>\n",
       "      <td>2</td>\n",
       "      <td>0</td>\n",
       "      <td>0.620879</td>\n",
       "      <td>0</td>\n",
       "    </tr>\n",
       "    <tr>\n",
       "      <th>14715</th>\n",
       "      <td>-0.309483</td>\n",
       "      <td>0</td>\n",
       "      <td>1</td>\n",
       "      <td>0.506235</td>\n",
       "      <td>2</td>\n",
       "      <td>1.276084</td>\n",
       "      <td>1</td>\n",
       "      <td>0</td>\n",
       "      <td>-1.316864</td>\n",
       "      <td>1</td>\n",
       "    </tr>\n",
       "    <tr>\n",
       "      <th>274</th>\n",
       "      <td>0.636029</td>\n",
       "      <td>1</td>\n",
       "      <td>1</td>\n",
       "      <td>-1.041433</td>\n",
       "      <td>4</td>\n",
       "      <td>1.107789</td>\n",
       "      <td>1</td>\n",
       "      <td>1</td>\n",
       "      <td>-0.107929</td>\n",
       "      <td>0</td>\n",
       "    </tr>\n",
       "  </tbody>\n",
       "</table>\n",
       "<p>3186 rows × 10 columns</p>\n",
       "</div>"
      ],
      "text/plain": [
       "       CreditScore  Geography  Gender       Age  Tenure   Balance  \\\n",
       "10878    -0.424660          0       1  1.052984       7 -1.225847   \n",
       "13564     0.148834          1       0 -0.345823       6  0.050648   \n",
       "3959      0.129037          1       1  0.960993       7  0.635708   \n",
       "12402     1.262617          0       0  1.102847       9  0.961190   \n",
       "14151     0.843973          0       0  0.116270       6  0.285444   \n",
       "...            ...        ...     ...       ...     ...       ...   \n",
       "6713     -0.667665          0       0  0.674932       0 -1.225847   \n",
       "2849     -1.588528          0       1  0.198164       9 -1.225847   \n",
       "2618     -1.578181          0       0 -0.850726       1 -1.225847   \n",
       "14715    -0.309483          0       1  0.506235       2  1.276084   \n",
       "274       0.636029          1       1 -1.041433       4  1.107789   \n",
       "\n",
       "       NumOfProducts  IsActiveMember  EstimatedSalary  Exited  \n",
       "10878              1               0        -1.414024       1  \n",
       "13564              1               0        -1.123292       1  \n",
       "3959               3               1        -0.273559       1  \n",
       "12402              1               1        -0.427771       1  \n",
       "14151              1               0         0.514320       1  \n",
       "...              ...             ...              ...     ...  \n",
       "6713               3               1         0.547115       1  \n",
       "2849               1               0        -1.356616       0  \n",
       "2618               2               0         0.620879       0  \n",
       "14715              1               0        -1.316864       1  \n",
       "274                1               1        -0.107929       0  \n",
       "\n",
       "[3186 rows x 10 columns]"
      ]
     },
     "execution_count": 36,
     "metadata": {},
     "output_type": "execute_result"
    }
   ],
   "source": [
    "holdout_df = pd.read_pickle(TEST_DATA_PATH)\n",
    "holdout_df"
   ]
  },
  {
   "cell_type": "markdown",
   "metadata": {},
   "source": [
    "### Sanity Check"
   ]
  },
  {
   "cell_type": "code",
   "execution_count": 37,
   "metadata": {},
   "outputs": [
    {
     "data": {
      "text/plain": [
       "<matplotlib.legend.Legend at 0x221c1acc1f0>"
      ]
     },
     "execution_count": 37,
     "metadata": {},
     "output_type": "execute_result"
    },
    {
     "data": {
      "image/png": "[encoded data removed]",
      "text/plain": [
       "<Figure size 640x480 with 1 Axes>"
      ]
     },
     "metadata": {},
     "output_type": "display_data"
    }
   ],
   "source": [
    "import seaborn as sns\n",
    "import matplotlib.pyplot as plt\n",
    "\n",
    "# Calculate mean and standard deviation of CreditScore\n",
    "mean_credit_score = holdout_df['CreditScore'].mean()\n",
    "std_credit_score = holdout_df['CreditScore'].std()\n",
    "\n",
    "# Create histogram with kernel density estimate\n",
    "sns.histplot(data=holdout_df, x='CreditScore', kde=True)\n",
    "\n",
    "# Plot mean and standard deviation lines\n",
    "plt.axvline(mean_credit_score, color='r', linestyle='dashed', linewidth=2, label='Mean')\n",
    "plt.axvline(mean_credit_score + std_credit_score, color='b', linestyle='dashed', linewidth=2, label='Mean + StdDev')\n",
    "\n",
    "# Add legend\n",
    "plt.legend()"
   ]
  },
  {
   "cell_type": "code",
   "execution_count": 38,
   "metadata": {},
   "outputs": [
    {
     "data": {
      "text/plain": [
       "<matplotlib.legend.Legend at 0x221c1ae7fa0>"
      ]
     },
     "execution_count": 38,
     "metadata": {},
     "output_type": "execute_result"
    },
    {
     "data": {
      "image/png": "[encoded data removed]",
      "text/plain": [
       "<Figure size 640x480 with 1 Axes>"
      ]
     },
     "metadata": {},
     "output_type": "display_data"
    }
   ],
   "source": [
    "import seaborn as sns\n",
    "import matplotlib.pyplot as plt\n",
    "\n",
    "# Calculate mean and standard deviation of age\n",
    "mean_age = holdout_df['Age'].mean()\n",
    "std_age = holdout_df['Age'].std()\n",
    "\n",
    "# Create histogram with kernel density estimate\n",
    "sns.histplot(data=holdout_df, x='Age', kde=True)\n",
    "\n",
    "# Plot mean and standard deviation lines\n",
    "plt.axvline(mean_age, color='r', linestyle='dashed', linewidth=2, label='Mean')\n",
    "plt.axvline(mean_age + std_age, color='b', linestyle='dashed', linewidth=2, label='Mean + StdDev')\n",
    "\n",
    "# Add legend\n",
    "plt.legend()"
   ]
  },
  {
   "cell_type": "markdown",
   "metadata": {},
   "source": [
    "### 2. Making Predictions on Holdout Data"
   ]
  },
  {
   "cell_type": "code",
   "execution_count": 39,
   "metadata": {},
   "outputs": [],
   "source": [
    "holdout_x = holdout_df.drop(columns=['Exited'])\n",
    "holdout_y = holdout_df['Exited']"
   ]
  },
  {
   "cell_type": "code",
   "execution_count": 40,
   "metadata": {},
   "outputs": [
    {
     "data": {
      "text/html": [
       "<div>\n",
       "<style scoped>\n",
       "    .dataframe tbody tr th:only-of-type {\n",
       "        vertical-align: middle;\n",
       "    }\n",
       "\n",
       "    .dataframe tbody tr th {\n",
       "        vertical-align: top;\n",
       "    }\n",
       "\n",
       "    .dataframe thead th {\n",
       "        text-align: right;\n",
       "    }\n",
       "</style>\n",
       "<table border=\"1\" class=\"dataframe\">\n",
       "  <thead>\n",
       "    <tr style=\"text-align: right;\">\n",
       "      <th></th>\n",
       "      <th>CreditScore</th>\n",
       "      <th>Geography</th>\n",
       "      <th>Gender</th>\n",
       "      <th>Age</th>\n",
       "      <th>Tenure</th>\n",
       "      <th>Balance</th>\n",
       "      <th>NumOfProducts</th>\n",
       "      <th>IsActiveMember</th>\n",
       "      <th>EstimatedSalary</th>\n",
       "    </tr>\n",
       "  </thead>\n",
       "  <tbody>\n",
       "    <tr>\n",
       "      <th>10878</th>\n",
       "      <td>-0.424660</td>\n",
       "      <td>0</td>\n",
       "      <td>1</td>\n",
       "      <td>1.052984</td>\n",
       "      <td>7</td>\n",
       "      <td>-1.225847</td>\n",
       "      <td>1</td>\n",
       "      <td>0</td>\n",
       "      <td>-1.414024</td>\n",
       "    </tr>\n",
       "    <tr>\n",
       "      <th>13564</th>\n",
       "      <td>0.148834</td>\n",
       "      <td>1</td>\n",
       "      <td>0</td>\n",
       "      <td>-0.345823</td>\n",
       "      <td>6</td>\n",
       "      <td>0.050648</td>\n",
       "      <td>1</td>\n",
       "      <td>0</td>\n",
       "      <td>-1.123292</td>\n",
       "    </tr>\n",
       "    <tr>\n",
       "      <th>3959</th>\n",
       "      <td>0.129037</td>\n",
       "      <td>1</td>\n",
       "      <td>1</td>\n",
       "      <td>0.960993</td>\n",
       "      <td>7</td>\n",
       "      <td>0.635708</td>\n",
       "      <td>3</td>\n",
       "      <td>1</td>\n",
       "      <td>-0.273559</td>\n",
       "    </tr>\n",
       "    <tr>\n",
       "      <th>12402</th>\n",
       "      <td>1.262617</td>\n",
       "      <td>0</td>\n",
       "      <td>0</td>\n",
       "      <td>1.102847</td>\n",
       "      <td>9</td>\n",
       "      <td>0.961190</td>\n",
       "      <td>1</td>\n",
       "      <td>1</td>\n",
       "      <td>-0.427771</td>\n",
       "    </tr>\n",
       "    <tr>\n",
       "      <th>14151</th>\n",
       "      <td>0.843973</td>\n",
       "      <td>0</td>\n",
       "      <td>0</td>\n",
       "      <td>0.116270</td>\n",
       "      <td>6</td>\n",
       "      <td>0.285444</td>\n",
       "      <td>1</td>\n",
       "      <td>0</td>\n",
       "      <td>0.514320</td>\n",
       "    </tr>\n",
       "    <tr>\n",
       "      <th>...</th>\n",
       "      <td>...</td>\n",
       "      <td>...</td>\n",
       "      <td>...</td>\n",
       "      <td>...</td>\n",
       "      <td>...</td>\n",
       "      <td>...</td>\n",
       "      <td>...</td>\n",
       "      <td>...</td>\n",
       "      <td>...</td>\n",
       "    </tr>\n",
       "    <tr>\n",
       "      <th>6713</th>\n",
       "      <td>-0.667665</td>\n",
       "      <td>0</td>\n",
       "      <td>0</td>\n",
       "      <td>0.674932</td>\n",
       "      <td>0</td>\n",
       "      <td>-1.225847</td>\n",
       "      <td>3</td>\n",
       "      <td>1</td>\n",
       "      <td>0.547115</td>\n",
       "    </tr>\n",
       "    <tr>\n",
       "      <th>2849</th>\n",
       "      <td>-1.588528</td>\n",
       "      <td>0</td>\n",
       "      <td>1</td>\n",
       "      <td>0.198164</td>\n",
       "      <td>9</td>\n",
       "      <td>-1.225847</td>\n",
       "      <td>1</td>\n",
       "      <td>0</td>\n",
       "      <td>-1.356616</td>\n",
       "    </tr>\n",
       "    <tr>\n",
       "      <th>2618</th>\n",
       "      <td>-1.578181</td>\n",
       "      <td>0</td>\n",
       "      <td>0</td>\n",
       "      <td>-0.850726</td>\n",
       "      <td>1</td>\n",
       "      <td>-1.225847</td>\n",
       "      <td>2</td>\n",
       "      <td>0</td>\n",
       "      <td>0.620879</td>\n",
       "    </tr>\n",
       "    <tr>\n",
       "      <th>14715</th>\n",
       "      <td>-0.309483</td>\n",
       "      <td>0</td>\n",
       "      <td>1</td>\n",
       "      <td>0.506235</td>\n",
       "      <td>2</td>\n",
       "      <td>1.276084</td>\n",
       "      <td>1</td>\n",
       "      <td>0</td>\n",
       "      <td>-1.316864</td>\n",
       "    </tr>\n",
       "    <tr>\n",
       "      <th>274</th>\n",
       "      <td>0.636029</td>\n",
       "      <td>1</td>\n",
       "      <td>1</td>\n",
       "      <td>-1.041433</td>\n",
       "      <td>4</td>\n",
       "      <td>1.107789</td>\n",
       "      <td>1</td>\n",
       "      <td>1</td>\n",
       "      <td>-0.107929</td>\n",
       "    </tr>\n",
       "  </tbody>\n",
       "</table>\n",
       "<p>3186 rows × 9 columns</p>\n",
       "</div>"
      ],
      "text/plain": [
       "       CreditScore  Geography  Gender       Age  Tenure   Balance  \\\n",
       "10878    -0.424660          0       1  1.052984       7 -1.225847   \n",
       "13564     0.148834          1       0 -0.345823       6  0.050648   \n",
       "3959      0.129037          1       1  0.960993       7  0.635708   \n",
       "12402     1.262617          0       0  1.102847       9  0.961190   \n",
       "14151     0.843973          0       0  0.116270       6  0.285444   \n",
       "...            ...        ...     ...       ...     ...       ...   \n",
       "6713     -0.667665          0       0  0.674932       0 -1.225847   \n",
       "2849     -1.588528          0       1  0.198164       9 -1.225847   \n",
       "2618     -1.578181          0       0 -0.850726       1 -1.225847   \n",
       "14715    -0.309483          0       1  0.506235       2  1.276084   \n",
       "274       0.636029          1       1 -1.041433       4  1.107789   \n",
       "\n",
       "       NumOfProducts  IsActiveMember  EstimatedSalary  \n",
       "10878              1               0        -1.414024  \n",
       "13564              1               0        -1.123292  \n",
       "3959               3               1        -0.273559  \n",
       "12402              1               1        -0.427771  \n",
       "14151              1               0         0.514320  \n",
       "...              ...             ...              ...  \n",
       "6713               3               1         0.547115  \n",
       "2849               1               0        -1.356616  \n",
       "2618               2               0         0.620879  \n",
       "14715              1               0        -1.316864  \n",
       "274                1               1        -0.107929  \n",
       "\n",
       "[3186 rows x 9 columns]"
      ]
     },
     "execution_count": 40,
     "metadata": {},
     "output_type": "execute_result"
    }
   ],
   "source": [
    "holdout_x"
   ]
  },
  {
   "cell_type": "code",
   "execution_count": 41,
   "metadata": {},
   "outputs": [
    {
     "data": {
      "text/plain": [
       "Exited\n",
       "1    1596\n",
       "0    1590\n",
       "Name: count, dtype: int64"
      ]
     },
     "execution_count": 41,
     "metadata": {},
     "output_type": "execute_result"
    }
   ],
   "source": [
    "holdout_y.value_counts()"
   ]
  },
  {
   "cell_type": "code",
   "execution_count": 42,
   "metadata": {},
   "outputs": [],
   "source": [
    "# Loading the model\n",
    "model  = joblib.load(MODEL_PATH)"
   ]
  },
  {
   "cell_type": "code",
   "execution_count": 51,
   "metadata": {},
   "outputs": [
    {
     "name": "stderr",
     "output_type": "stream",
     "text": [
      "f:\\End-to-End-DS-Projects\\Bank Churn Prediction\\venv\\lib\\site-packages\\sklearn\\base.py:465: UserWarning: X does not have valid feature names, but RandomForestClassifier was fitted with feature names\n",
      "  warnings.warn(\n"
     ]
    },
    {
     "data": {
      "text/plain": [
       "array([1, 1, 1, ..., 0, 1, 0], dtype=int64)"
      ]
     },
     "execution_count": 51,
     "metadata": {},
     "output_type": "execute_result"
    }
   ],
   "source": [
    "predictions = model.predict(holdout_x.values)\n",
    "predictions"
   ]
  },
  {
   "cell_type": "markdown",
   "metadata": {},
   "source": [
    "### 3. Loading Original Churn Results"
   ]
  },
  {
   "cell_type": "code",
   "execution_count": 45,
   "metadata": {},
   "outputs": [
    {
     "data": {
      "text/plain": [
       "10878    1\n",
       "13564    1\n",
       "3959     1\n",
       "12402    1\n",
       "14151    1\n",
       "        ..\n",
       "6713     1\n",
       "2849     0\n",
       "2618     0\n",
       "14715    1\n",
       "274      0\n",
       "Name: Exited, Length: 3186, dtype: int64"
      ]
     },
     "execution_count": 45,
     "metadata": {},
     "output_type": "execute_result"
    }
   ],
   "source": [
    "holdout_y"
   ]
  },
  {
   "cell_type": "code",
   "execution_count": 52,
   "metadata": {},
   "outputs": [
    {
     "data": {
      "text/html": [
       "<div>\n",
       "<style scoped>\n",
       "    .dataframe tbody tr th:only-of-type {\n",
       "        vertical-align: middle;\n",
       "    }\n",
       "\n",
       "    .dataframe tbody tr th {\n",
       "        vertical-align: top;\n",
       "    }\n",
       "\n",
       "    .dataframe thead th {\n",
       "        text-align: right;\n",
       "    }\n",
       "</style>\n",
       "<table border=\"1\" class=\"dataframe\">\n",
       "  <thead>\n",
       "    <tr style=\"text-align: right;\">\n",
       "      <th></th>\n",
       "      <th>Prediction</th>\n",
       "      <th>Actual</th>\n",
       "    </tr>\n",
       "  </thead>\n",
       "  <tbody>\n",
       "    <tr>\n",
       "      <th>10878</th>\n",
       "      <td>1</td>\n",
       "      <td>1</td>\n",
       "    </tr>\n",
       "    <tr>\n",
       "      <th>13564</th>\n",
       "      <td>1</td>\n",
       "      <td>1</td>\n",
       "    </tr>\n",
       "    <tr>\n",
       "      <th>3959</th>\n",
       "      <td>1</td>\n",
       "      <td>1</td>\n",
       "    </tr>\n",
       "    <tr>\n",
       "      <th>12402</th>\n",
       "      <td>1</td>\n",
       "      <td>1</td>\n",
       "    </tr>\n",
       "    <tr>\n",
       "      <th>14151</th>\n",
       "      <td>1</td>\n",
       "      <td>1</td>\n",
       "    </tr>\n",
       "    <tr>\n",
       "      <th>...</th>\n",
       "      <td>...</td>\n",
       "      <td>...</td>\n",
       "    </tr>\n",
       "    <tr>\n",
       "      <th>6713</th>\n",
       "      <td>1</td>\n",
       "      <td>1</td>\n",
       "    </tr>\n",
       "    <tr>\n",
       "      <th>2849</th>\n",
       "      <td>0</td>\n",
       "      <td>0</td>\n",
       "    </tr>\n",
       "    <tr>\n",
       "      <th>2618</th>\n",
       "      <td>0</td>\n",
       "      <td>0</td>\n",
       "    </tr>\n",
       "    <tr>\n",
       "      <th>14715</th>\n",
       "      <td>1</td>\n",
       "      <td>1</td>\n",
       "    </tr>\n",
       "    <tr>\n",
       "      <th>274</th>\n",
       "      <td>0</td>\n",
       "      <td>0</td>\n",
       "    </tr>\n",
       "  </tbody>\n",
       "</table>\n",
       "<p>3186 rows × 2 columns</p>\n",
       "</div>"
      ],
      "text/plain": [
       "       Prediction  Actual\n",
       "10878           1       1\n",
       "13564           1       1\n",
       "3959            1       1\n",
       "12402           1       1\n",
       "14151           1       1\n",
       "...           ...     ...\n",
       "6713            1       1\n",
       "2849            0       0\n",
       "2618            0       0\n",
       "14715           1       1\n",
       "274             0       0\n",
       "\n",
       "[3186 rows x 2 columns]"
      ]
     },
     "execution_count": 52,
     "metadata": {},
     "output_type": "execute_result"
    }
   ],
   "source": [
    "pd.DataFrame({'Prediction': predictions, 'Actual': holdout_y})"
   ]
  },
  {
   "cell_type": "markdown",
   "metadata": {},
   "source": [
    "### Evaluating Predictive Model Performance with F1 Score"
   ]
  },
  {
   "cell_type": "code",
   "execution_count": 55,
   "metadata": {},
   "outputs": [
    {
     "name": "stdout",
     "output_type": "stream",
     "text": [
      "accuracy score = 0.86691776522285\n",
      "precision = 0.8690176322418136\n",
      "recall = 0.8646616541353384\n",
      "f1_score = 0.8668341708542714\n"
     ]
    }
   ],
   "source": [
    "print(f\"accuracy score = {accuracy_score(holdout_y, predictions)}\")\n",
    "print(f\"precision = {precision_score(holdout_y, predictions)}\")\n",
    "print(f\"recall = {recall_score(holdout_y, predictions)}\")\n",
    "print(f\"f1_score = {f1_score(holdout_y, predictions)}\")"
   ]
  },
  {
   "cell_type": "markdown",
   "metadata": {},
   "source": [
    "-------------"
   ]
  },
  {
   "cell_type": "code",
   "execution_count": 56,
   "metadata": {},
   "outputs": [],
   "source": [
    "import os"
   ]
  },
  {
   "cell_type": "code",
   "execution_count": 57,
   "metadata": {},
   "outputs": [
    {
     "data": {
      "text/plain": [
       "'f:\\\\End-to-End-DS-Projects\\\\Bank Churn Prediction\\\\research'"
      ]
     },
     "execution_count": 57,
     "metadata": {},
     "output_type": "execute_result"
    }
   ],
   "source": [
    "%pwd"
   ]
  },
  {
   "cell_type": "code",
   "execution_count": 58,
   "metadata": {},
   "outputs": [],
   "source": [
    "os.chdir(\"../\")"
   ]
  },
  {
   "cell_type": "code",
   "execution_count": 59,
   "metadata": {},
   "outputs": [
    {
     "data": {
      "text/plain": [
       "'f:\\\\End-to-End-DS-Projects\\\\Bank Churn Prediction'"
      ]
     },
     "execution_count": 59,
     "metadata": {},
     "output_type": "execute_result"
    }
   ],
   "source": [
    "%pwd"
   ]
  },
  {
   "cell_type": "code",
   "execution_count": 60,
   "metadata": {},
   "outputs": [
    {
     "data": {
      "text/html": [
       "<pre style=\"white-space:pre;overflow-x:auto;line-height:normal;font-family:Menlo,'DejaVu Sans Mono',consolas,'Courier New',monospace\">Initialized MLflow to track repo <span style=\"color: #008000; text-decoration-color: #008000\">\"amrahmed95/Bank-Chrun-Prediction\"</span>\n",
       "</pre>\n"
      ],
      "text/plain": [
       "Initialized MLflow to track repo \u001b[32m\"amrahmed95/Bank-Chrun-Prediction\"\u001b[0m\n"
      ]
     },
     "metadata": {},
     "output_type": "display_data"
    },
    {
     "data": {
      "text/html": [
       "<pre style=\"white-space:pre;overflow-x:auto;line-height:normal;font-family:Menlo,'DejaVu Sans Mono',consolas,'Courier New',monospace\">Repository amrahmed95/Bank-Chrun-Prediction initialized!\n",
       "</pre>\n"
      ],
      "text/plain": [
       "Repository amrahmed95/Bank-Chrun-Prediction initialized!\n"
      ]
     },
     "metadata": {},
     "output_type": "display_data"
    }
   ],
   "source": [
    "import dagshub\n",
    "dagshub.init(repo_owner='amrahmed95', repo_name='Bank-Chrun-Prediction', mlflow=True)\n",
    "\n",
    "import mlflow\n",
    "with mlflow.start_run():\n",
    "  mlflow.log_param('parameter name', 'value')\n",
    "  mlflow.log_metric('metric name', 1)"
   ]
  },
  {
   "cell_type": "markdown",
   "metadata": {},
   "source": [
    "### Update the entity"
   ]
  },
  {
   "cell_type": "code",
   "execution_count": 65,
   "metadata": {},
   "outputs": [],
   "source": [
    "from dataclasses import dataclass\n",
    "from pathlib import Path\n",
    "\n",
    "\n",
    "@dataclass(frozen=True)\n",
    "class ModelEvaluationConfig:\n",
    "    root_dir: Path\n",
    "    test_data_path: Path\n",
    "    model_path: Path\n",
    "    all_params: dict\n",
    "    metric_file_name: Path\n",
    "    target_column: str\n",
    "    mlflow_uri: str"
   ]
  },
  {
   "cell_type": "markdown",
   "metadata": {},
   "source": [
    "### Update the configuration manager"
   ]
  },
  {
   "cell_type": "code",
   "execution_count": 71,
   "metadata": {},
   "outputs": [],
   "source": [
    "from src.BankChurn.constants import *\n",
    "from src.BankChurn.utils.common import read_yaml, create_directories, save_json\n",
    "\n",
    "class ConfigurationManager:\n",
    "    def __init__(\n",
    "        self,\n",
    "        config_filepath = CONFIG_FILE_PATH,\n",
    "        params_filepath = PARAMS_FILE_PATH,\n",
    "        schema_filepath = SCHEMA_FILE_PATH):\n",
    "\n",
    "        self.config = read_yaml(config_filepath)\n",
    "        self.params = read_yaml(params_filepath)\n",
    "        self.schema = read_yaml(schema_filepath)\n",
    "\n",
    "        create_directories([self.config.artifacts_root])\n",
    "\n",
    "    \n",
    "    def get_model_evaluation_config(self) -> ModelEvaluationConfig:\n",
    "        config = self.config.model_evaluation\n",
    "        params = self.params.RandomForest\n",
    "        schema =  self.schema.TARGET_COLUMN\n",
    "\n",
    "        create_directories([config.root_dir])\n",
    "\n",
    "        model_evaluation_config = ModelEvaluationConfig(\n",
    "            root_dir=config.root_dir,\n",
    "            test_data_path=config.test_data_path,\n",
    "            model_path = config.model_path,\n",
    "            all_params=params,\n",
    "            metric_file_name = config.metric_file_name,\n",
    "            target_column = schema.name,\n",
    "            mlflow_uri=\"https://dagshub.com/amrahmed95/Bank-Chrun-Prediction.mlflow\",\n",
    "           \n",
    "        )\n",
    "\n",
    "        return model_evaluation_config"
   ]
  },
  {
   "cell_type": "markdown",
   "metadata": {},
   "source": [
    "### Update the components"
   ]
  },
  {
   "cell_type": "code",
   "execution_count": 72,
   "metadata": {},
   "outputs": [],
   "source": [
    "import os\n",
    "import pandas as pd\n",
    "from sklearn.metrics import accuracy_score, precision_score, recall_score, f1_score\n",
    "from urllib.parse import urlparse\n",
    "import mlflow\n",
    "import mlflow.sklearn\n",
    "import numpy as np\n",
    "import joblib\n",
    "from src.BankChurn import logger"
   ]
  },
  {
   "cell_type": "code",
   "execution_count": 75,
   "metadata": {},
   "outputs": [],
   "source": [
    "class ModelEvaluation:\n",
    "    def __init__(self, config: ModelEvaluationConfig):\n",
    "        logger.info(\"Initialize Model Evaluation\")\n",
    "        self.config = config\n",
    "        \n",
    "    def evaluate_metrics(self,actual, pred):\n",
    "        logger.info(\"Initialize evaluation metrics\")\n",
    "        accuracy = accuracy_score(actual, pred)\n",
    "        precision = precision_score(actual, pred)\n",
    "        recall = recall_score(actual, pred)\n",
    "        f1 = f1_score(actual, pred)\n",
    "        return accuracy, precision, recall, f1\n",
    "    \n",
    "    def log_into_mlflow(self):\n",
    "        logger.info(\"Initialize reading data and Log_into_mlflow\")\n",
    "        test_data = pd.read_pickle(self.config.test_data_path)\n",
    "        model = joblib.load(self.config.model_path)\n",
    "\n",
    "        test_x = test_data.drop([self.config.target_column], axis=1)\n",
    "        test_y = test_data[[self.config.target_column]]\n",
    "\n",
    "\n",
    "        mlflow.set_registry_uri(self.config.mlflow_uri)\n",
    "        tracking_url_type_store = urlparse(mlflow.get_tracking_uri()).scheme\n",
    "        \n",
    "        with mlflow.start_run():\n",
    "\n",
    "            predictions = model.predict(test_x.values)\n",
    "\n",
    "            (accuracy, precision, recall, f1) = self.evaluate_metrics(test_y, predictions)\n",
    "            \n",
    "            # Saving metrics as local\n",
    "            scores = {\"accuracy\": accuracy, \"precision\": precision, \"recall\": recall, 'f1_score':f1}\n",
    "            save_json(path=Path(self.config.metric_file_name), data=scores)\n",
    "\n",
    "            mlflow.log_params(self.config.all_params)\n",
    "\n",
    "            mlflow.log_metric(\"accuracy\", accuracy)\n",
    "            mlflow.log_metric(\"precision\", precision)\n",
    "            mlflow.log_metric(\"recall\", recall)\n",
    "            mlflow.log_metric(\"f1_score\", f1)\n",
    "\n",
    "\n",
    "            # Model registry does not work with file store\n",
    "            if tracking_url_type_store != \"file\":\n",
    "\n",
    "                # Register the model\n",
    "                # There are other ways to use the Model Registry, which depends on the use case,\n",
    "                # please refer to the doc for more information:\n",
    "                # https://mlflow.org/docs/latest/model-registry.html#api-workflow\n",
    "                mlflow.sklearn.log_model(model, \"model\", registered_model_name=\"RandomForestModel\")\n",
    "            else:\n",
    "                mlflow.sklearn.log_model(model, \"model\")\n",
    "\n",
    "    "
   ]
  },
  {
   "cell_type": "markdown",
   "metadata": {},
   "source": [
    "### Update Pipeline"
   ]
  },
  {
   "cell_type": "code",
   "execution_count": 76,
   "metadata": {},
   "outputs": [
    {
     "name": "stdout",
     "output_type": "stream",
     "text": [
      "[2024-06-11 01:38:14,791: 31 - Bank Churn Project Logger: INFO: common: yaml file: config\\config.yaml loaded successfully]\n",
      "[2024-06-11 01:38:14,797: 31 - Bank Churn Project Logger: INFO: common: yaml file: params.yaml loaded successfully]\n",
      "[2024-06-11 01:38:14,802: 31 - Bank Churn Project Logger: INFO: common: yaml file: schema.yaml loaded successfully]\n",
      "[2024-06-11 01:38:14,805: 51 - Bank Churn Project Logger: INFO: common: created directory at: artifacts]\n",
      "[2024-06-11 01:38:14,807: 51 - Bank Churn Project Logger: INFO: common: created directory at: artifacts/model_evaluation]\n",
      "[2024-06-11 01:38:14,809: 3 - Bank Churn Project Logger: INFO: 2558362596: Initialize Model Evaluation]\n",
      "[2024-06-11 01:38:14,811: 15 - Bank Churn Project Logger: INFO: 2558362596: Initialize reading data and Log_into_mlflow]\n",
      "[2024-06-11 01:38:15,253: 7 - Bank Churn Project Logger: INFO: 2558362596: Initialize evaluation metrics]\n",
      "[2024-06-11 01:38:15,295: 65 - Bank Churn Project Logger: INFO: common: json file saved at: artifacts\\model_evaluation\\metrics.json]\n"
     ]
    },
    {
     "name": "stderr",
     "output_type": "stream",
     "text": [
      "f:\\End-to-End-DS-Projects\\Bank Churn Prediction\\venv\\lib\\site-packages\\sklearn\\base.py:465: UserWarning: X does not have valid feature names, but RandomForestClassifier was fitted with feature names\n",
      "  warnings.warn(\n",
      "Successfully registered model 'RandomForestModel'.\n",
      "2024/06/11 01:39:36 INFO mlflow.store.model_registry.abstract_store: Waiting up to 300 seconds for model version to finish creation. Model name: RandomForestModel, version 1\n",
      "Created version '1' of model 'RandomForestModel'.\n"
     ]
    }
   ],
   "source": [
    "try:\n",
    "    config = ConfigurationManager()\n",
    "    model_evaluation_config = config.get_model_evaluation_config()\n",
    "    model_evaluation_config = ModelEvaluation(config=model_evaluation_config)\n",
    "    model_evaluation_config.log_into_mlflow()\n",
    "except Exception as e:\n",
    "    raise e"
   ]
  },
  {
   "cell_type": "code",
   "execution_count": null,
   "metadata": {},
   "outputs": [],
   "source": []
  }
 ],
 "metadata": {
  "kernelspec": {
   "display_name": "Python 3",
   "language": "python",
   "name": "python3"
  },
  "language_info": {
   "codemirror_mode": {
    "name": "ipython",
    "version": 3
   },
   "file_extension": ".py",
   "mimetype": "text/x-python",
   "name": "python",
   "nbconvert_exporter": "python",
   "pygments_lexer": "ipython3",
   "version": "3.8.19"
  }
 },
 "nbformat": 4,
 "nbformat_minor": 2
}
