{
 "cells": [
  {
   "cell_type": "code",
   "execution_count": 1,
   "metadata": {},
   "outputs": [],
   "source": [
    "import os"
   ]
  },
  {
   "cell_type": "code",
   "execution_count": 2,
   "metadata": {},
   "outputs": [
    {
     "data": {
      "text/plain": [
       "'f:\\\\End-to-End-DS-Projects\\\\Bank Churn Prediction\\\\research'"
      ]
     },
     "execution_count": 2,
     "metadata": {},
     "output_type": "execute_result"
    }
   ],
   "source": [
    "%pwd"
   ]
  },
  {
   "cell_type": "code",
   "execution_count": 4,
   "metadata": {},
   "outputs": [],
   "source": [
    "# os.chdir(\"Bank Churn Prediction\")\n",
    "os.chdir(\"../\")"
   ]
  },
  {
   "cell_type": "code",
   "execution_count": 5,
   "metadata": {},
   "outputs": [
    {
     "data": {
      "text/plain": [
       "'f:\\\\End-to-End-DS-Projects\\\\Bank Churn Prediction'"
      ]
     },
     "execution_count": 5,
     "metadata": {},
     "output_type": "execute_result"
    }
   ],
   "source": [
    "%pwd"
   ]
  },
  {
   "cell_type": "code",
   "execution_count": 6,
   "metadata": {},
   "outputs": [],
   "source": [
    "DATA_PATH = 'artifacts/data_ingestion/Churn_Modelling.csv'"
   ]
  },
  {
   "cell_type": "code",
   "execution_count": 7,
   "metadata": {},
   "outputs": [],
   "source": [
    "import pandas as pd"
   ]
  },
  {
   "cell_type": "code",
   "execution_count": 8,
   "metadata": {},
   "outputs": [
    {
     "data": {
      "text/html": [
       "<div>\n",
       "<style scoped>\n",
       "    .dataframe tbody tr th:only-of-type {\n",
       "        vertical-align: middle;\n",
       "    }\n",
       "\n",
       "    .dataframe tbody tr th {\n",
       "        vertical-align: top;\n",
       "    }\n",
       "\n",
       "    .dataframe thead th {\n",
       "        text-align: right;\n",
       "    }\n",
       "</style>\n",
       "<table border=\"1\" class=\"dataframe\">\n",
       "  <thead>\n",
       "    <tr style=\"text-align: right;\">\n",
       "      <th></th>\n",
       "      <th>RowNumber</th>\n",
       "      <th>CustomerId</th>\n",
       "      <th>Surname</th>\n",
       "      <th>CreditScore</th>\n",
       "      <th>Geography</th>\n",
       "      <th>Gender</th>\n",
       "      <th>Age</th>\n",
       "      <th>Tenure</th>\n",
       "      <th>Balance</th>\n",
       "      <th>NumOfProducts</th>\n",
       "      <th>HasCrCard</th>\n",
       "      <th>IsActiveMember</th>\n",
       "      <th>EstimatedSalary</th>\n",
       "      <th>Exited</th>\n",
       "    </tr>\n",
       "  </thead>\n",
       "  <tbody>\n",
       "    <tr>\n",
       "      <th>0</th>\n",
       "      <td>1</td>\n",
       "      <td>15634602</td>\n",
       "      <td>Hargrave</td>\n",
       "      <td>619</td>\n",
       "      <td>France</td>\n",
       "      <td>Female</td>\n",
       "      <td>42</td>\n",
       "      <td>2</td>\n",
       "      <td>0.00</td>\n",
       "      <td>1</td>\n",
       "      <td>1</td>\n",
       "      <td>1</td>\n",
       "      <td>101348.88</td>\n",
       "      <td>1</td>\n",
       "    </tr>\n",
       "    <tr>\n",
       "      <th>1</th>\n",
       "      <td>2</td>\n",
       "      <td>15647311</td>\n",
       "      <td>Hill</td>\n",
       "      <td>608</td>\n",
       "      <td>Spain</td>\n",
       "      <td>Female</td>\n",
       "      <td>41</td>\n",
       "      <td>1</td>\n",
       "      <td>83807.86</td>\n",
       "      <td>1</td>\n",
       "      <td>0</td>\n",
       "      <td>1</td>\n",
       "      <td>112542.58</td>\n",
       "      <td>0</td>\n",
       "    </tr>\n",
       "    <tr>\n",
       "      <th>2</th>\n",
       "      <td>3</td>\n",
       "      <td>15619304</td>\n",
       "      <td>Onio</td>\n",
       "      <td>502</td>\n",
       "      <td>France</td>\n",
       "      <td>Female</td>\n",
       "      <td>42</td>\n",
       "      <td>8</td>\n",
       "      <td>159660.80</td>\n",
       "      <td>3</td>\n",
       "      <td>1</td>\n",
       "      <td>0</td>\n",
       "      <td>113931.57</td>\n",
       "      <td>1</td>\n",
       "    </tr>\n",
       "    <tr>\n",
       "      <th>3</th>\n",
       "      <td>4</td>\n",
       "      <td>15701354</td>\n",
       "      <td>Boni</td>\n",
       "      <td>699</td>\n",
       "      <td>France</td>\n",
       "      <td>Female</td>\n",
       "      <td>39</td>\n",
       "      <td>1</td>\n",
       "      <td>0.00</td>\n",
       "      <td>2</td>\n",
       "      <td>0</td>\n",
       "      <td>0</td>\n",
       "      <td>93826.63</td>\n",
       "      <td>0</td>\n",
       "    </tr>\n",
       "    <tr>\n",
       "      <th>4</th>\n",
       "      <td>5</td>\n",
       "      <td>15737888</td>\n",
       "      <td>Mitchell</td>\n",
       "      <td>850</td>\n",
       "      <td>Spain</td>\n",
       "      <td>Female</td>\n",
       "      <td>43</td>\n",
       "      <td>2</td>\n",
       "      <td>125510.82</td>\n",
       "      <td>1</td>\n",
       "      <td>1</td>\n",
       "      <td>1</td>\n",
       "      <td>79084.10</td>\n",
       "      <td>0</td>\n",
       "    </tr>\n",
       "  </tbody>\n",
       "</table>\n",
       "</div>"
      ],
      "text/plain": [
       "   RowNumber  CustomerId   Surname  CreditScore Geography  Gender  Age  \\\n",
       "0          1    15634602  Hargrave          619    France  Female   42   \n",
       "1          2    15647311      Hill          608     Spain  Female   41   \n",
       "2          3    15619304      Onio          502    France  Female   42   \n",
       "3          4    15701354      Boni          699    France  Female   39   \n",
       "4          5    15737888  Mitchell          850     Spain  Female   43   \n",
       "\n",
       "   Tenure    Balance  NumOfProducts  HasCrCard  IsActiveMember  \\\n",
       "0       2       0.00              1          1               1   \n",
       "1       1   83807.86              1          0               1   \n",
       "2       8  159660.80              3          1               0   \n",
       "3       1       0.00              2          0               0   \n",
       "4       2  125510.82              1          1               1   \n",
       "\n",
       "   EstimatedSalary  Exited  \n",
       "0        101348.88       1  \n",
       "1        112542.58       0  \n",
       "2        113931.57       1  \n",
       "3         93826.63       0  \n",
       "4         79084.10       0  "
      ]
     },
     "execution_count": 8,
     "metadata": {},
     "output_type": "execute_result"
    }
   ],
   "source": [
    "data = pd.read_csv(DATA_PATH)\n",
    "data.head()"
   ]
  },
  {
   "cell_type": "code",
   "execution_count": 9,
   "metadata": {},
   "outputs": [
    {
     "name": "stdout",
     "output_type": "stream",
     "text": [
      "<class 'pandas.core.frame.DataFrame'>\n",
      "RangeIndex: 10000 entries, 0 to 9999\n",
      "Data columns (total 14 columns):\n",
      " #   Column           Non-Null Count  Dtype  \n",
      "---  ------           --------------  -----  \n",
      " 0   RowNumber        10000 non-null  int64  \n",
      " 1   CustomerId       10000 non-null  int64  \n",
      " 2   Surname          10000 non-null  object \n",
      " 3   CreditScore      10000 non-null  int64  \n",
      " 4   Geography        10000 non-null  object \n",
      " 5   Gender           10000 non-null  object \n",
      " 6   Age              10000 non-null  int64  \n",
      " 7   Tenure           10000 non-null  int64  \n",
      " 8   Balance          10000 non-null  float64\n",
      " 9   NumOfProducts    10000 non-null  int64  \n",
      " 10  HasCrCard        10000 non-null  int64  \n",
      " 11  IsActiveMember   10000 non-null  int64  \n",
      " 12  EstimatedSalary  10000 non-null  float64\n",
      " 13  Exited           10000 non-null  int64  \n",
      "dtypes: float64(2), int64(9), object(3)\n",
      "memory usage: 1.1+ MB\n"
     ]
    }
   ],
   "source": [
    "data.info()"
   ]
  },
  {
   "cell_type": "code",
   "execution_count": 10,
   "metadata": {},
   "outputs": [
    {
     "data": {
      "text/plain": [
       "RowNumber          0\n",
       "CustomerId         0\n",
       "Surname            0\n",
       "CreditScore        0\n",
       "Geography          0\n",
       "Gender             0\n",
       "Age                0\n",
       "Tenure             0\n",
       "Balance            0\n",
       "NumOfProducts      0\n",
       "HasCrCard          0\n",
       "IsActiveMember     0\n",
       "EstimatedSalary    0\n",
       "Exited             0\n",
       "dtype: int64"
      ]
     },
     "execution_count": 10,
     "metadata": {},
     "output_type": "execute_result"
    }
   ],
   "source": [
    "data.isnull().sum()"
   ]
  },
  {
   "cell_type": "code",
   "execution_count": 11,
   "metadata": {},
   "outputs": [
    {
     "data": {
      "text/plain": [
       "(10000, 14)"
      ]
     },
     "execution_count": 11,
     "metadata": {},
     "output_type": "execute_result"
    }
   ],
   "source": [
    "data.shape"
   ]
  },
  {
   "cell_type": "code",
   "execution_count": 12,
   "metadata": {},
   "outputs": [
    {
     "data": {
      "text/plain": [
       "Index(['RowNumber', 'CustomerId', 'Surname', 'CreditScore', 'Geography',\n",
       "       'Gender', 'Age', 'Tenure', 'Balance', 'NumOfProducts', 'HasCrCard',\n",
       "       'IsActiveMember', 'EstimatedSalary', 'Exited'],\n",
       "      dtype='object')"
      ]
     },
     "execution_count": 12,
     "metadata": {},
     "output_type": "execute_result"
    }
   ],
   "source": [
    "data.columns"
   ]
  },
  {
   "cell_type": "code",
   "execution_count": 13,
   "metadata": {},
   "outputs": [
    {
     "data": {
      "text/plain": [
       "RowNumber            int64\n",
       "CustomerId           int64\n",
       "Surname             object\n",
       "CreditScore          int64\n",
       "Geography           object\n",
       "Gender              object\n",
       "Age                  int64\n",
       "Tenure               int64\n",
       "Balance            float64\n",
       "NumOfProducts        int64\n",
       "HasCrCard            int64\n",
       "IsActiveMember       int64\n",
       "EstimatedSalary    float64\n",
       "Exited               int64\n",
       "dtype: object"
      ]
     },
     "execution_count": 13,
     "metadata": {},
     "output_type": "execute_result"
    }
   ],
   "source": [
    "data.dtypes"
   ]
  },
  {
   "cell_type": "markdown",
   "metadata": {},
   "source": [
    "#### 4. Update Entity"
   ]
  },
  {
   "cell_type": "code",
   "execution_count": 1,
   "metadata": {},
   "outputs": [],
   "source": [
    "from dataclasses import dataclass\n",
    "from pathlib import Path\n",
    "\n",
    "\n",
    "@dataclass(frozen=True)\n",
    "class DataValidationConfig:\n",
    "    root_dir: Path\n",
    "    unzip_data_dir: Path\n",
    "    STATUS_FILE: str    \n",
    "    all_schema: dict\n",
    "    unzip_dir: Path"
   ]
  },
  {
   "cell_type": "markdown",
   "metadata": {},
   "source": [
    "#### 5. Update Config manager"
   ]
  },
  {
   "cell_type": "code",
   "execution_count": 4,
   "metadata": {},
   "outputs": [],
   "source": [
    "import os\n",
    "os.chdir(\"../\")"
   ]
  },
  {
   "cell_type": "code",
   "execution_count": 5,
   "metadata": {},
   "outputs": [],
   "source": [
    "from src.BankChurn.constants import *\n",
    "from src.BankChurn.utils.common import read_yaml, create_directories"
   ]
  },
  {
   "cell_type": "code",
   "execution_count": 6,
   "metadata": {},
   "outputs": [],
   "source": [
    "class ConfigurationManager:\n",
    "    def __init__(\n",
    "        self,\n",
    "        config_filepath=CONFIG_FILE_PATH,\n",
    "        params_filepath=PARAMS_FILE_PATH,\n",
    "        schema_filepath=SCHEMA_FILE_PATH,\n",
    "    ):\n",
    "        self.config = None\n",
    "        self.params = None\n",
    "        self.schema = None\n",
    "        self.config = read_yaml(config_filepath)\n",
    "        self.params = read_yaml(params_filepath)\n",
    "        self.schema = read_yaml(schema_filepath)\n",
    "        create_directories([self.config.artifacts_root])\n",
    "\n",
    "\n",
    "    \n",
    "    def get_data_validation_config(self) -> DataValidationConfig:\n",
    "        config = self.config.data_validation\n",
    "        schema = self.schema.COLUMNS\n",
    "\n",
    "        create_directories([config.root_dir])\n",
    "\n",
    "        data_validation_config = DataValidationConfig(\n",
    "            root_dir=config.root_dir,\n",
    "            STATUS_FILE=config.STATUS_FILE,\n",
    "            unzip_data_dir = config.unzip_data_dir,\n",
    "            all_schema=schema,\n",
    "            unzip_dir=config.unzip_dir \n",
    "            \n",
    "        )\n",
    "\n",
    "        return data_validation_config"
   ]
  },
  {
   "cell_type": "markdown",
   "metadata": {},
   "source": [
    "#### 6. Update Components"
   ]
  },
  {
   "cell_type": "code",
   "execution_count": 44,
   "metadata": {},
   "outputs": [],
   "source": [
    "import os\n",
    "import pandas as pd\n",
    "import pickle\n",
    "from src.BankChurn import logger\n",
    "from sklearn.preprocessing import LabelEncoder\n",
    "\n",
    "class DataValidation:\n",
    "    def __init__(self, config: DataValidationConfig):\n",
    "        #self.data_path = data_path\n",
    "        self.config = config\n",
    "        logger.info('Initialized DataValidation Class')\n",
    "        \n",
    "\n",
    "    def load_data(self):\n",
    "        logger.info('Loading data from {}'.format(self.config.unzip_data_dir))\n",
    "        self.df = pd.read_csv(self.config.unzip_data_dir)\n",
    "        logger.info(f\"Loaded data from {self.config.unzip_data_dir}\")\n",
    "        logger.info('Loaded data with shape {}'.format(self.df.shape))\n",
    "        return self.df\n",
    "\n",
    "    def preprocess(self):\n",
    "        \"\"\" Preprocess the dataframe \"\"\"\n",
    "        self.load_data()\n",
    "\n",
    "        # Drop unnecessary columns\n",
    "        columns_to_drop = ['RowNumber', 'CustomerId', 'Surname']\n",
    "        for col in columns_to_drop:\n",
    "            if col in self.df.columns:\n",
    "                self.df = self.df.drop(columns=[col])\n",
    "                logger.info(f\"Dropped column {col}\")\n",
    "\n",
    "        # Convert columns to integer type\n",
    "        for col in ['EstimatedSalary', 'Balance']:\n",
    "            if col in self.df.columns:\n",
    "                self.df[col] = self.df[col].astype(int, errors='ignore')\n",
    "                logger.info(f\"Converted column {col} to integer type\")\n",
    "\n",
    "        # Encode categorical columns using LabelEncoder\n",
    "        le = LabelEncoder()\n",
    "        categorical_cols = ['Geography', 'Gender']\n",
    "        for col in categorical_cols:\n",
    "            if col in self.df.columns:\n",
    "                self.df[col] = le.fit_transform(self.df[col])\n",
    "                logger.info(f\"Encoded categorical column {col}\")\n",
    "\n",
    "        # Drop additional column\n",
    "        if 'HasCrCard' in self.df.columns:\n",
    "            self.df = self.df.drop('HasCrCard', axis=1)\n",
    "            logger.info(\"Dropped column HasCrCard\")\n",
    "\n",
    "        # Export preprocessed data\n",
    "        validated_data_path = os.path.join('artifacts/data_preprocessed', 'preprocessed_data.pkl')\n",
    "        os.makedirs(os.path.dirname(validated_data_path), exist_ok=True)\n",
    "        self.df.to_pickle(validated_data_path , protocol=pickle.HIGHEST_PROTOCOL)\n",
    "        logger.info(f\"Exported preprocessed data to {validated_data_path}\")\n",
    "\n",
    "        return self.df\n",
    "\n",
    "    def validate_columns(self, preprocessed_data: pd.DataFrame) -> bool:\n",
    "        try:\n",
    "            validation_status = True\n",
    "            all_cols = list(preprocessed_data.columns)\n",
    "            all_schema = self.config.all_schema.keys()\n",
    "\n",
    "            for col in all_cols:\n",
    "                if col not in all_schema:\n",
    "                    validation_status = False\n",
    "                    logger.error(f\"Column {col} not found in schema\")\n",
    "                else:\n",
    "                    schema_data_type = self.config.all_schema[col]\n",
    "                    data_data_type = preprocessed_data[col].dtype\n",
    "\n",
    "                    if schema_data_type != data_data_type:\n",
    "                        validation_status = False\n",
    "                        logger.error(f\"Data type mismatch for column {col}: schema type {schema_data_type}, data type {data_data_type}\")\n",
    "            \n",
    "            with open(self.config.STATUS_FILE, 'w') as f:\n",
    "                f.write(f\"Validation status: {validation_status}\")\n",
    "\n",
    "            return validation_status\n",
    "        except Exception as e:\n",
    "            logger.exception(f\"Error in validating columns: {e}\")\n",
    "            raise e\n",
    "        \n",
    "    \n",
    "    def validate_data(self):\n",
    "        preprocessed_data = self.preprocess()\n",
    "        validation_status = self.validate_columns(preprocessed_data)\n",
    "        logger.info(f\"Validation status: {validation_status}\")\n",
    "        return validation_status"
   ]
  },
  {
   "cell_type": "markdown",
   "metadata": {},
   "source": [
    "#### 7. Update Pipeline"
   ]
  },
  {
   "cell_type": "code",
   "execution_count": 45,
   "metadata": {},
   "outputs": [
    {
     "name": "stdout",
     "output_type": "stream",
     "text": [
      "[2024-06-05 19:32:41,428: 31 - Bank Churn Project Logger: INFO: common: yaml file: config\\config.yaml loaded successfully]\n",
      "[2024-06-05 19:32:41,432: 31 - Bank Churn Project Logger: INFO: common: yaml file: params.yaml loaded successfully]\n",
      "[2024-06-05 19:32:41,439: 31 - Bank Churn Project Logger: INFO: common: yaml file: schema.yaml loaded successfully]\n",
      "[2024-06-05 19:32:41,441: 51 - Bank Churn Project Logger: INFO: common: created directory at: artifacts]\n",
      "[2024-06-05 19:32:41,444: 51 - Bank Churn Project Logger: INFO: common: created directory at: artifacts/data_validation]\n",
      "[2024-06-05 19:32:41,445: 11 - Bank Churn Project Logger: INFO: 3070188584: Initialized DataValidation Class]\n",
      "[2024-06-05 19:32:41,449: 15 - Bank Churn Project Logger: INFO: 3070188584: Loading data from artifacts/data_ingestion/Churn_Modelling.csv]\n",
      "[2024-06-05 19:32:41,482: 17 - Bank Churn Project Logger: INFO: 3070188584: Loaded data from artifacts/data_ingestion/Churn_Modelling.csv]\n",
      "[2024-06-05 19:32:41,484: 18 - Bank Churn Project Logger: INFO: 3070188584: Loaded data with shape (10000, 14)]\n",
      "[2024-06-05 19:32:41,487: 30 - Bank Churn Project Logger: INFO: 3070188584: Dropped column RowNumber]\n",
      "[2024-06-05 19:32:41,491: 30 - Bank Churn Project Logger: INFO: 3070188584: Dropped column CustomerId]\n"
     ]
    },
    {
     "name": "stdout",
     "output_type": "stream",
     "text": [
      "[2024-06-05 19:32:41,498: 30 - Bank Churn Project Logger: INFO: 3070188584: Dropped column Surname]\n",
      "[2024-06-05 19:32:41,504: 36 - Bank Churn Project Logger: INFO: 3070188584: Converted column EstimatedSalary to integer type]\n",
      "[2024-06-05 19:32:41,524: 36 - Bank Churn Project Logger: INFO: 3070188584: Converted column Balance to integer type]\n",
      "[2024-06-05 19:32:41,536: 44 - Bank Churn Project Logger: INFO: 3070188584: Encoded categorical column Geography]\n",
      "[2024-06-05 19:32:41,543: 44 - Bank Churn Project Logger: INFO: 3070188584: Encoded categorical column Gender]\n",
      "[2024-06-05 19:32:41,551: 49 - Bank Churn Project Logger: INFO: 3070188584: Dropped column HasCrCard]\n",
      "[2024-06-05 19:32:41,557: 55 - Bank Churn Project Logger: INFO: 3070188584: Exported preprocessed data to artifacts/data_preprocessed\\preprocessed_data.pkl]\n",
      "[2024-06-05 19:32:41,560: 86 - Bank Churn Project Logger: INFO: 3070188584: Validation status: True]\n",
      "Validation status: True\n"
     ]
    }
   ],
   "source": [
    "try:\n",
    "    config = ConfigurationManager()\n",
    "    data_validation_config = config.get_data_validation_config()\n",
    "    data_validation = DataValidation(data_validation_config)\n",
    "    #preprocessed_data = data_validation.preprocess()\n",
    "    validation_status = data_validation.validate_data()\n",
    "    print(f\"Validation status: {validation_status}\")\n",
    "except Exception as e:\n",
    "    logger.error(f\"Error occurred: {e}\")\n",
    "    raise e"
   ]
  },
  {
   "cell_type": "code",
   "execution_count": null,
   "metadata": {},
   "outputs": [],
   "source": []
  }
 ],
 "metadata": {
  "kernelspec": {
   "display_name": "Python 3",
   "language": "python",
   "name": "python3"
  },
  "language_info": {
   "codemirror_mode": {
    "name": "ipython",
    "version": 3
   },
   "file_extension": ".py",
   "mimetype": "text/x-python",
   "name": "python",
   "nbconvert_exporter": "python",
   "pygments_lexer": "ipython3",
   "version": "3.8.19"
  }
 },
 "nbformat": 4,
 "nbformat_minor": 2
}
