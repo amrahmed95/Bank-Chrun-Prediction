{
 "cells": [
  {
   "cell_type": "code",
   "execution_count": 77,
   "metadata": {},
   "outputs": [],
   "source": [
    "DATA_PATH = '../artifacts/data_preprocessed/1_preprocessed_df.pkl'"
   ]
  },
  {
   "cell_type": "code",
   "execution_count": 78,
   "metadata": {},
   "outputs": [],
   "source": [
    "# Load packages\n",
    "import pandas as pd \n",
    "import numpy as np\n",
    "import logging\n",
    "import pickle\n",
    "from sklearn.preprocessing import StandardScaler\n",
    "from imblearn.over_sampling import SMOTE\n",
    "from sklearn.model_selection import train_test_split"
   ]
  },
  {
   "cell_type": "code",
   "execution_count": 79,
   "metadata": {},
   "outputs": [
    {
     "data": {
      "text/html": [
       "<div>\n",
       "<style scoped>\n",
       "    .dataframe tbody tr th:only-of-type {\n",
       "        vertical-align: middle;\n",
       "    }\n",
       "\n",
       "    .dataframe tbody tr th {\n",
       "        vertical-align: top;\n",
       "    }\n",
       "\n",
       "    .dataframe thead th {\n",
       "        text-align: right;\n",
       "    }\n",
       "</style>\n",
       "<table border=\"1\" class=\"dataframe\">\n",
       "  <thead>\n",
       "    <tr style=\"text-align: right;\">\n",
       "      <th></th>\n",
       "      <th>CreditScore</th>\n",
       "      <th>Geography</th>\n",
       "      <th>Gender</th>\n",
       "      <th>Age</th>\n",
       "      <th>Tenure</th>\n",
       "      <th>Balance</th>\n",
       "      <th>NumOfProducts</th>\n",
       "      <th>IsActiveMember</th>\n",
       "      <th>EstimatedSalary</th>\n",
       "      <th>Exited</th>\n",
       "    </tr>\n",
       "  </thead>\n",
       "  <tbody>\n",
       "    <tr>\n",
       "      <th>0</th>\n",
       "      <td>619</td>\n",
       "      <td>0</td>\n",
       "      <td>0</td>\n",
       "      <td>42</td>\n",
       "      <td>2</td>\n",
       "      <td>0</td>\n",
       "      <td>1</td>\n",
       "      <td>1</td>\n",
       "      <td>101348</td>\n",
       "      <td>1</td>\n",
       "    </tr>\n",
       "    <tr>\n",
       "      <th>1</th>\n",
       "      <td>608</td>\n",
       "      <td>2</td>\n",
       "      <td>0</td>\n",
       "      <td>41</td>\n",
       "      <td>1</td>\n",
       "      <td>83807</td>\n",
       "      <td>1</td>\n",
       "      <td>1</td>\n",
       "      <td>112542</td>\n",
       "      <td>0</td>\n",
       "    </tr>\n",
       "    <tr>\n",
       "      <th>2</th>\n",
       "      <td>502</td>\n",
       "      <td>0</td>\n",
       "      <td>0</td>\n",
       "      <td>42</td>\n",
       "      <td>8</td>\n",
       "      <td>159660</td>\n",
       "      <td>3</td>\n",
       "      <td>0</td>\n",
       "      <td>113931</td>\n",
       "      <td>1</td>\n",
       "    </tr>\n",
       "    <tr>\n",
       "      <th>3</th>\n",
       "      <td>699</td>\n",
       "      <td>0</td>\n",
       "      <td>0</td>\n",
       "      <td>39</td>\n",
       "      <td>1</td>\n",
       "      <td>0</td>\n",
       "      <td>2</td>\n",
       "      <td>0</td>\n",
       "      <td>93826</td>\n",
       "      <td>0</td>\n",
       "    </tr>\n",
       "    <tr>\n",
       "      <th>4</th>\n",
       "      <td>850</td>\n",
       "      <td>2</td>\n",
       "      <td>0</td>\n",
       "      <td>43</td>\n",
       "      <td>2</td>\n",
       "      <td>125510</td>\n",
       "      <td>1</td>\n",
       "      <td>1</td>\n",
       "      <td>79084</td>\n",
       "      <td>0</td>\n",
       "    </tr>\n",
       "    <tr>\n",
       "      <th>...</th>\n",
       "      <td>...</td>\n",
       "      <td>...</td>\n",
       "      <td>...</td>\n",
       "      <td>...</td>\n",
       "      <td>...</td>\n",
       "      <td>...</td>\n",
       "      <td>...</td>\n",
       "      <td>...</td>\n",
       "      <td>...</td>\n",
       "      <td>...</td>\n",
       "    </tr>\n",
       "    <tr>\n",
       "      <th>9995</th>\n",
       "      <td>771</td>\n",
       "      <td>0</td>\n",
       "      <td>1</td>\n",
       "      <td>39</td>\n",
       "      <td>5</td>\n",
       "      <td>0</td>\n",
       "      <td>2</td>\n",
       "      <td>0</td>\n",
       "      <td>96270</td>\n",
       "      <td>0</td>\n",
       "    </tr>\n",
       "    <tr>\n",
       "      <th>9996</th>\n",
       "      <td>516</td>\n",
       "      <td>0</td>\n",
       "      <td>1</td>\n",
       "      <td>35</td>\n",
       "      <td>10</td>\n",
       "      <td>57369</td>\n",
       "      <td>1</td>\n",
       "      <td>1</td>\n",
       "      <td>101699</td>\n",
       "      <td>0</td>\n",
       "    </tr>\n",
       "    <tr>\n",
       "      <th>9997</th>\n",
       "      <td>709</td>\n",
       "      <td>0</td>\n",
       "      <td>0</td>\n",
       "      <td>36</td>\n",
       "      <td>7</td>\n",
       "      <td>0</td>\n",
       "      <td>1</td>\n",
       "      <td>1</td>\n",
       "      <td>42085</td>\n",
       "      <td>1</td>\n",
       "    </tr>\n",
       "    <tr>\n",
       "      <th>9998</th>\n",
       "      <td>772</td>\n",
       "      <td>1</td>\n",
       "      <td>1</td>\n",
       "      <td>42</td>\n",
       "      <td>3</td>\n",
       "      <td>75075</td>\n",
       "      <td>2</td>\n",
       "      <td>0</td>\n",
       "      <td>92888</td>\n",
       "      <td>1</td>\n",
       "    </tr>\n",
       "    <tr>\n",
       "      <th>9999</th>\n",
       "      <td>792</td>\n",
       "      <td>0</td>\n",
       "      <td>0</td>\n",
       "      <td>28</td>\n",
       "      <td>4</td>\n",
       "      <td>130142</td>\n",
       "      <td>1</td>\n",
       "      <td>0</td>\n",
       "      <td>38190</td>\n",
       "      <td>0</td>\n",
       "    </tr>\n",
       "  </tbody>\n",
       "</table>\n",
       "<p>10000 rows × 10 columns</p>\n",
       "</div>"
      ],
      "text/plain": [
       "      CreditScore  Geography  Gender  Age  Tenure  Balance  NumOfProducts  \\\n",
       "0             619          0       0   42       2        0              1   \n",
       "1             608          2       0   41       1    83807              1   \n",
       "2             502          0       0   42       8   159660              3   \n",
       "3             699          0       0   39       1        0              2   \n",
       "4             850          2       0   43       2   125510              1   \n",
       "...           ...        ...     ...  ...     ...      ...            ...   \n",
       "9995          771          0       1   39       5        0              2   \n",
       "9996          516          0       1   35      10    57369              1   \n",
       "9997          709          0       0   36       7        0              1   \n",
       "9998          772          1       1   42       3    75075              2   \n",
       "9999          792          0       0   28       4   130142              1   \n",
       "\n",
       "      IsActiveMember  EstimatedSalary  Exited  \n",
       "0                  1           101348       1  \n",
       "1                  1           112542       0  \n",
       "2                  0           113931       1  \n",
       "3                  0            93826       0  \n",
       "4                  1            79084       0  \n",
       "...              ...              ...     ...  \n",
       "9995               0            96270       0  \n",
       "9996               1           101699       0  \n",
       "9997               1            42085       1  \n",
       "9998               0            92888       1  \n",
       "9999               0            38190       0  \n",
       "\n",
       "[10000 rows x 10 columns]"
      ]
     },
     "execution_count": 79,
     "metadata": {},
     "output_type": "execute_result"
    }
   ],
   "source": [
    "df = pd.read_pickle(DATA_PATH)\n",
    "df"
   ]
  },
  {
   "cell_type": "code",
   "execution_count": 80,
   "metadata": {},
   "outputs": [],
   "source": [
    "numbCol = ['EstimatedSalary', 'Balance', 'CreditScore', 'Age']\n",
    "nomCol =  ['IsActiveMember', 'Geography', 'Gender', 'NumOfProducts', 'Tenure']"
   ]
  },
  {
   "cell_type": "markdown",
   "metadata": {},
   "source": [
    "### 1. Standardizing Numerical Data with StandardScaler"
   ]
  },
  {
   "cell_type": "code",
   "execution_count": 81,
   "metadata": {},
   "outputs": [
    {
     "data": {
      "text/html": [
       "<div>\n",
       "<style scoped>\n",
       "    .dataframe tbody tr th:only-of-type {\n",
       "        vertical-align: middle;\n",
       "    }\n",
       "\n",
       "    .dataframe tbody tr th {\n",
       "        vertical-align: top;\n",
       "    }\n",
       "\n",
       "    .dataframe thead th {\n",
       "        text-align: right;\n",
       "    }\n",
       "</style>\n",
       "<table border=\"1\" class=\"dataframe\">\n",
       "  <thead>\n",
       "    <tr style=\"text-align: right;\">\n",
       "      <th></th>\n",
       "      <th>CreditScore</th>\n",
       "      <th>Geography</th>\n",
       "      <th>Gender</th>\n",
       "      <th>Age</th>\n",
       "      <th>Tenure</th>\n",
       "      <th>Balance</th>\n",
       "      <th>NumOfProducts</th>\n",
       "      <th>IsActiveMember</th>\n",
       "      <th>EstimatedSalary</th>\n",
       "      <th>Exited</th>\n",
       "    </tr>\n",
       "  </thead>\n",
       "  <tbody>\n",
       "    <tr>\n",
       "      <th>0</th>\n",
       "      <td>-0.326221</td>\n",
       "      <td>0</td>\n",
       "      <td>0</td>\n",
       "      <td>0.293517</td>\n",
       "      <td>2</td>\n",
       "      <td>-1.225847</td>\n",
       "      <td>1</td>\n",
       "      <td>1</td>\n",
       "      <td>0.021880</td>\n",
       "      <td>1</td>\n",
       "    </tr>\n",
       "    <tr>\n",
       "      <th>1</th>\n",
       "      <td>-0.440036</td>\n",
       "      <td>2</td>\n",
       "      <td>0</td>\n",
       "      <td>0.198164</td>\n",
       "      <td>1</td>\n",
       "      <td>0.117342</td>\n",
       "      <td>1</td>\n",
       "      <td>1</td>\n",
       "      <td>0.216532</td>\n",
       "      <td>0</td>\n",
       "    </tr>\n",
       "    <tr>\n",
       "      <th>2</th>\n",
       "      <td>-1.536794</td>\n",
       "      <td>0</td>\n",
       "      <td>0</td>\n",
       "      <td>0.293517</td>\n",
       "      <td>8</td>\n",
       "      <td>1.333050</td>\n",
       "      <td>3</td>\n",
       "      <td>0</td>\n",
       "      <td>0.240686</td>\n",
       "      <td>1</td>\n",
       "    </tr>\n",
       "    <tr>\n",
       "      <th>3</th>\n",
       "      <td>0.501521</td>\n",
       "      <td>0</td>\n",
       "      <td>0</td>\n",
       "      <td>0.007457</td>\n",
       "      <td>1</td>\n",
       "      <td>-1.225847</td>\n",
       "      <td>2</td>\n",
       "      <td>0</td>\n",
       "      <td>-0.108920</td>\n",
       "      <td>0</td>\n",
       "    </tr>\n",
       "    <tr>\n",
       "      <th>4</th>\n",
       "      <td>2.063884</td>\n",
       "      <td>2</td>\n",
       "      <td>0</td>\n",
       "      <td>0.388871</td>\n",
       "      <td>2</td>\n",
       "      <td>0.785723</td>\n",
       "      <td>1</td>\n",
       "      <td>1</td>\n",
       "      <td>-0.365269</td>\n",
       "      <td>0</td>\n",
       "    </tr>\n",
       "    <tr>\n",
       "      <th>...</th>\n",
       "      <td>...</td>\n",
       "      <td>...</td>\n",
       "      <td>...</td>\n",
       "      <td>...</td>\n",
       "      <td>...</td>\n",
       "      <td>...</td>\n",
       "      <td>...</td>\n",
       "      <td>...</td>\n",
       "      <td>...</td>\n",
       "      <td>...</td>\n",
       "    </tr>\n",
       "    <tr>\n",
       "      <th>9995</th>\n",
       "      <td>1.246488</td>\n",
       "      <td>0</td>\n",
       "      <td>1</td>\n",
       "      <td>0.007457</td>\n",
       "      <td>5</td>\n",
       "      <td>-1.225847</td>\n",
       "      <td>2</td>\n",
       "      <td>0</td>\n",
       "      <td>-0.066422</td>\n",
       "      <td>0</td>\n",
       "    </tr>\n",
       "    <tr>\n",
       "      <th>9996</th>\n",
       "      <td>-1.391939</td>\n",
       "      <td>0</td>\n",
       "      <td>1</td>\n",
       "      <td>-0.373958</td>\n",
       "      <td>10</td>\n",
       "      <td>-0.306384</td>\n",
       "      <td>1</td>\n",
       "      <td>1</td>\n",
       "      <td>0.027983</td>\n",
       "      <td>0</td>\n",
       "    </tr>\n",
       "    <tr>\n",
       "      <th>9997</th>\n",
       "      <td>0.604988</td>\n",
       "      <td>0</td>\n",
       "      <td>0</td>\n",
       "      <td>-0.278604</td>\n",
       "      <td>7</td>\n",
       "      <td>-1.225847</td>\n",
       "      <td>1</td>\n",
       "      <td>1</td>\n",
       "      <td>-1.008645</td>\n",
       "      <td>1</td>\n",
       "    </tr>\n",
       "    <tr>\n",
       "      <th>9998</th>\n",
       "      <td>1.256835</td>\n",
       "      <td>1</td>\n",
       "      <td>1</td>\n",
       "      <td>0.293517</td>\n",
       "      <td>3</td>\n",
       "      <td>-0.022607</td>\n",
       "      <td>2</td>\n",
       "      <td>0</td>\n",
       "      <td>-0.125231</td>\n",
       "      <td>1</td>\n",
       "    </tr>\n",
       "    <tr>\n",
       "      <th>9999</th>\n",
       "      <td>1.463771</td>\n",
       "      <td>0</td>\n",
       "      <td>0</td>\n",
       "      <td>-1.041433</td>\n",
       "      <td>4</td>\n",
       "      <td>0.859960</td>\n",
       "      <td>1</td>\n",
       "      <td>0</td>\n",
       "      <td>-1.076375</td>\n",
       "      <td>0</td>\n",
       "    </tr>\n",
       "  </tbody>\n",
       "</table>\n",
       "<p>10000 rows × 10 columns</p>\n",
       "</div>"
      ],
      "text/plain": [
       "      CreditScore  Geography  Gender       Age  Tenure   Balance  \\\n",
       "0       -0.326221          0       0  0.293517       2 -1.225847   \n",
       "1       -0.440036          2       0  0.198164       1  0.117342   \n",
       "2       -1.536794          0       0  0.293517       8  1.333050   \n",
       "3        0.501521          0       0  0.007457       1 -1.225847   \n",
       "4        2.063884          2       0  0.388871       2  0.785723   \n",
       "...           ...        ...     ...       ...     ...       ...   \n",
       "9995     1.246488          0       1  0.007457       5 -1.225847   \n",
       "9996    -1.391939          0       1 -0.373958      10 -0.306384   \n",
       "9997     0.604988          0       0 -0.278604       7 -1.225847   \n",
       "9998     1.256835          1       1  0.293517       3 -0.022607   \n",
       "9999     1.463771          0       0 -1.041433       4  0.859960   \n",
       "\n",
       "      NumOfProducts  IsActiveMember  EstimatedSalary  Exited  \n",
       "0                 1               1         0.021880       1  \n",
       "1                 1               1         0.216532       0  \n",
       "2                 3               0         0.240686       1  \n",
       "3                 2               0        -0.108920       0  \n",
       "4                 1               1        -0.365269       0  \n",
       "...             ...             ...              ...     ...  \n",
       "9995              2               0        -0.066422       0  \n",
       "9996              1               1         0.027983       0  \n",
       "9997              1               1        -1.008645       1  \n",
       "9998              2               0        -0.125231       1  \n",
       "9999              1               0        -1.076375       0  \n",
       "\n",
       "[10000 rows x 10 columns]"
      ]
     },
     "execution_count": 81,
     "metadata": {},
     "output_type": "execute_result"
    }
   ],
   "source": [
    "sc = StandardScaler()\n",
    "df[numbCol] = sc.fit_transform(df[numbCol])\n",
    "df"
   ]
  },
  {
   "cell_type": "markdown",
   "metadata": {},
   "source": [
    "### 2. Splitting Data into Features and Target Variable"
   ]
  },
  {
   "cell_type": "code",
   "execution_count": 82,
   "metadata": {},
   "outputs": [],
   "source": [
    "x1 = df.drop(columns=['Exited'])\n",
    "y1 = df['Exited']"
   ]
  },
  {
   "cell_type": "code",
   "execution_count": 83,
   "metadata": {},
   "outputs": [
    {
     "data": {
      "text/html": [
       "<div>\n",
       "<style scoped>\n",
       "    .dataframe tbody tr th:only-of-type {\n",
       "        vertical-align: middle;\n",
       "    }\n",
       "\n",
       "    .dataframe tbody tr th {\n",
       "        vertical-align: top;\n",
       "    }\n",
       "\n",
       "    .dataframe thead th {\n",
       "        text-align: right;\n",
       "    }\n",
       "</style>\n",
       "<table border=\"1\" class=\"dataframe\">\n",
       "  <thead>\n",
       "    <tr style=\"text-align: right;\">\n",
       "      <th></th>\n",
       "      <th>CreditScore</th>\n",
       "      <th>Geography</th>\n",
       "      <th>Gender</th>\n",
       "      <th>Age</th>\n",
       "      <th>Tenure</th>\n",
       "      <th>Balance</th>\n",
       "      <th>NumOfProducts</th>\n",
       "      <th>IsActiveMember</th>\n",
       "      <th>EstimatedSalary</th>\n",
       "    </tr>\n",
       "  </thead>\n",
       "  <tbody>\n",
       "    <tr>\n",
       "      <th>0</th>\n",
       "      <td>-0.326221</td>\n",
       "      <td>0</td>\n",
       "      <td>0</td>\n",
       "      <td>0.293517</td>\n",
       "      <td>2</td>\n",
       "      <td>-1.225847</td>\n",
       "      <td>1</td>\n",
       "      <td>1</td>\n",
       "      <td>0.021880</td>\n",
       "    </tr>\n",
       "    <tr>\n",
       "      <th>1</th>\n",
       "      <td>-0.440036</td>\n",
       "      <td>2</td>\n",
       "      <td>0</td>\n",
       "      <td>0.198164</td>\n",
       "      <td>1</td>\n",
       "      <td>0.117342</td>\n",
       "      <td>1</td>\n",
       "      <td>1</td>\n",
       "      <td>0.216532</td>\n",
       "    </tr>\n",
       "    <tr>\n",
       "      <th>2</th>\n",
       "      <td>-1.536794</td>\n",
       "      <td>0</td>\n",
       "      <td>0</td>\n",
       "      <td>0.293517</td>\n",
       "      <td>8</td>\n",
       "      <td>1.333050</td>\n",
       "      <td>3</td>\n",
       "      <td>0</td>\n",
       "      <td>0.240686</td>\n",
       "    </tr>\n",
       "    <tr>\n",
       "      <th>3</th>\n",
       "      <td>0.501521</td>\n",
       "      <td>0</td>\n",
       "      <td>0</td>\n",
       "      <td>0.007457</td>\n",
       "      <td>1</td>\n",
       "      <td>-1.225847</td>\n",
       "      <td>2</td>\n",
       "      <td>0</td>\n",
       "      <td>-0.108920</td>\n",
       "    </tr>\n",
       "    <tr>\n",
       "      <th>4</th>\n",
       "      <td>2.063884</td>\n",
       "      <td>2</td>\n",
       "      <td>0</td>\n",
       "      <td>0.388871</td>\n",
       "      <td>2</td>\n",
       "      <td>0.785723</td>\n",
       "      <td>1</td>\n",
       "      <td>1</td>\n",
       "      <td>-0.365269</td>\n",
       "    </tr>\n",
       "    <tr>\n",
       "      <th>...</th>\n",
       "      <td>...</td>\n",
       "      <td>...</td>\n",
       "      <td>...</td>\n",
       "      <td>...</td>\n",
       "      <td>...</td>\n",
       "      <td>...</td>\n",
       "      <td>...</td>\n",
       "      <td>...</td>\n",
       "      <td>...</td>\n",
       "    </tr>\n",
       "    <tr>\n",
       "      <th>9995</th>\n",
       "      <td>1.246488</td>\n",
       "      <td>0</td>\n",
       "      <td>1</td>\n",
       "      <td>0.007457</td>\n",
       "      <td>5</td>\n",
       "      <td>-1.225847</td>\n",
       "      <td>2</td>\n",
       "      <td>0</td>\n",
       "      <td>-0.066422</td>\n",
       "    </tr>\n",
       "    <tr>\n",
       "      <th>9996</th>\n",
       "      <td>-1.391939</td>\n",
       "      <td>0</td>\n",
       "      <td>1</td>\n",
       "      <td>-0.373958</td>\n",
       "      <td>10</td>\n",
       "      <td>-0.306384</td>\n",
       "      <td>1</td>\n",
       "      <td>1</td>\n",
       "      <td>0.027983</td>\n",
       "    </tr>\n",
       "    <tr>\n",
       "      <th>9997</th>\n",
       "      <td>0.604988</td>\n",
       "      <td>0</td>\n",
       "      <td>0</td>\n",
       "      <td>-0.278604</td>\n",
       "      <td>7</td>\n",
       "      <td>-1.225847</td>\n",
       "      <td>1</td>\n",
       "      <td>1</td>\n",
       "      <td>-1.008645</td>\n",
       "    </tr>\n",
       "    <tr>\n",
       "      <th>9998</th>\n",
       "      <td>1.256835</td>\n",
       "      <td>1</td>\n",
       "      <td>1</td>\n",
       "      <td>0.293517</td>\n",
       "      <td>3</td>\n",
       "      <td>-0.022607</td>\n",
       "      <td>2</td>\n",
       "      <td>0</td>\n",
       "      <td>-0.125231</td>\n",
       "    </tr>\n",
       "    <tr>\n",
       "      <th>9999</th>\n",
       "      <td>1.463771</td>\n",
       "      <td>0</td>\n",
       "      <td>0</td>\n",
       "      <td>-1.041433</td>\n",
       "      <td>4</td>\n",
       "      <td>0.859960</td>\n",
       "      <td>1</td>\n",
       "      <td>0</td>\n",
       "      <td>-1.076375</td>\n",
       "    </tr>\n",
       "  </tbody>\n",
       "</table>\n",
       "<p>10000 rows × 9 columns</p>\n",
       "</div>"
      ],
      "text/plain": [
       "      CreditScore  Geography  Gender       Age  Tenure   Balance  \\\n",
       "0       -0.326221          0       0  0.293517       2 -1.225847   \n",
       "1       -0.440036          2       0  0.198164       1  0.117342   \n",
       "2       -1.536794          0       0  0.293517       8  1.333050   \n",
       "3        0.501521          0       0  0.007457       1 -1.225847   \n",
       "4        2.063884          2       0  0.388871       2  0.785723   \n",
       "...           ...        ...     ...       ...     ...       ...   \n",
       "9995     1.246488          0       1  0.007457       5 -1.225847   \n",
       "9996    -1.391939          0       1 -0.373958      10 -0.306384   \n",
       "9997     0.604988          0       0 -0.278604       7 -1.225847   \n",
       "9998     1.256835          1       1  0.293517       3 -0.022607   \n",
       "9999     1.463771          0       0 -1.041433       4  0.859960   \n",
       "\n",
       "      NumOfProducts  IsActiveMember  EstimatedSalary  \n",
       "0                 1               1         0.021880  \n",
       "1                 1               1         0.216532  \n",
       "2                 3               0         0.240686  \n",
       "3                 2               0        -0.108920  \n",
       "4                 1               1        -0.365269  \n",
       "...             ...             ...              ...  \n",
       "9995              2               0        -0.066422  \n",
       "9996              1               1         0.027983  \n",
       "9997              1               1        -1.008645  \n",
       "9998              2               0        -0.125231  \n",
       "9999              1               0        -1.076375  \n",
       "\n",
       "[10000 rows x 9 columns]"
      ]
     },
     "execution_count": 83,
     "metadata": {},
     "output_type": "execute_result"
    }
   ],
   "source": [
    "x1"
   ]
  },
  {
   "cell_type": "markdown",
   "metadata": {},
   "source": [
    "### 3. Oversampling Minority Class with SMOTE"
   ]
  },
  {
   "cell_type": "code",
   "execution_count": 84,
   "metadata": {},
   "outputs": [
    {
     "data": {
      "text/plain": [
       "Exited\n",
       "0    7963\n",
       "1    2037\n",
       "Name: count, dtype: int64"
      ]
     },
     "execution_count": 84,
     "metadata": {},
     "output_type": "execute_result"
    }
   ],
   "source": [
    "y1.value_counts()"
   ]
  },
  {
   "cell_type": "code",
   "execution_count": 85,
   "metadata": {},
   "outputs": [
    {
     "data": {
      "text/plain": [
       "(array([[-0.32622142,  0.        ,  0.        , ...,  1.        ,\n",
       "          1.        ,  0.02187974],\n",
       "        [-0.44003595,  2.        ,  0.        , ...,  1.        ,\n",
       "          1.        ,  0.21653222],\n",
       "        [-1.53679418,  0.        ,  0.        , ...,  3.        ,\n",
       "          0.        ,  0.24068554],\n",
       "        ...,\n",
       "        [ 0.53667434,  0.        ,  0.        , ...,  1.        ,\n",
       "          0.        , -0.35291971],\n",
       "        [ 0.56534303,  0.        ,  0.        , ...,  2.        ,\n",
       "          1.        ,  0.02175822],\n",
       "        [ 0.77550661,  1.        ,  0.        , ...,  1.        ,\n",
       "          0.        , -0.00553711]]),\n",
       " array([1, 0, 1, ..., 1, 1, 1], dtype=int64))"
      ]
     },
     "execution_count": 85,
     "metadata": {},
     "output_type": "execute_result"
    }
   ],
   "source": [
    "over = SMOTE(sampling_strategy=1) # number of samples in the minority class should be equal to the number of samples in the majority class after oversampling\n",
    "\n",
    "x1_resampled = over.fit_resample(x1, y1)[0].values\n",
    "y1_resampled = over.fit_resample(x1, y1)[1].values\n",
    "\n",
    "x1_resampled, y1_resampled"
   ]
  },
  {
   "cell_type": "code",
   "execution_count": 87,
   "metadata": {},
   "outputs": [
    {
     "name": "stdout",
     "output_type": "stream",
     "text": [
      "Before Over-Sampling \n",
      "-----------------------\n",
      "[(10000, 9), (10000,)]\n",
      "\n",
      "\n",
      "After Over-Sampling\n",
      "-----------------------\n",
      "[(15926, 9), (15926,)]\n"
     ]
    }
   ],
   "source": [
    "print(\"Before Over-Sampling \\n-----------------------\")\n",
    "print([x1.shape, y1.shape])\n",
    "\n",
    "print('\\n')\n",
    "\n",
    "print(\"After Over-Sampling\\n-----------------------\")\n",
    "print([x1_resampled.shape, y1_resampled.shape])\n"
   ]
  },
  {
   "cell_type": "code",
   "execution_count": 93,
   "metadata": {},
   "outputs": [
    {
     "data": {
      "text/plain": [
       "array([[-0.32622142,  0.        ,  0.        , ...,  1.        ,\n",
       "         1.        ,  0.02187974],\n",
       "       [-0.44003595,  2.        ,  0.        , ...,  1.        ,\n",
       "         1.        ,  0.21653222],\n",
       "       [-1.53679418,  0.        ,  0.        , ...,  3.        ,\n",
       "         0.        ,  0.24068554],\n",
       "       ...,\n",
       "       [ 0.53667434,  0.        ,  0.        , ...,  1.        ,\n",
       "         0.        , -0.35291971],\n",
       "       [ 0.56534303,  0.        ,  0.        , ...,  2.        ,\n",
       "         1.        ,  0.02175822],\n",
       "       [ 0.77550661,  1.        ,  0.        , ...,  1.        ,\n",
       "         0.        , -0.00553711]])"
      ]
     },
     "execution_count": 93,
     "metadata": {},
     "output_type": "execute_result"
    }
   ],
   "source": [
    "x1_resampled"
   ]
  },
  {
   "cell_type": "code",
   "execution_count": 95,
   "metadata": {},
   "outputs": [
    {
     "data": {
      "text/plain": [
       "array([[-0.32622142,  0.        ,  0.        , ...,  1.        ,\n",
       "         0.02187974,  1.        ],\n",
       "       [-0.44003595,  2.        ,  0.        , ...,  1.        ,\n",
       "         0.21653222,  0.        ],\n",
       "       [-1.53679418,  0.        ,  0.        , ...,  0.        ,\n",
       "         0.24068554,  1.        ],\n",
       "       ...,\n",
       "       [ 0.53667434,  0.        ,  0.        , ...,  0.        ,\n",
       "        -0.35291971,  1.        ],\n",
       "       [ 0.56534303,  0.        ,  0.        , ...,  1.        ,\n",
       "         0.02175822,  1.        ],\n",
       "       [ 0.77550661,  1.        ,  0.        , ...,  0.        ,\n",
       "        -0.00553711,  1.        ]])"
      ]
     },
     "execution_count": 95,
     "metadata": {},
     "output_type": "execute_result"
    }
   ],
   "source": [
    "df_resampled = np.concatenate((x1_resampled, y1_resampled.reshape(-1, 1)), axis=1)\n",
    "\n",
    "df_resampled"
   ]
  },
  {
   "cell_type": "markdown",
   "metadata": {},
   "source": [
    "### 4. Splitting Oversampled Data for Training and Testing"
   ]
  },
  {
   "cell_type": "code",
   "execution_count": 96,
   "metadata": {},
   "outputs": [
    {
     "name": "stdout",
     "output_type": "stream",
     "text": [
      "(12740, 10) (3186, 10)\n"
     ]
    }
   ],
   "source": [
    "from sklearn.model_selection import train_test_split\n",
    "\n",
    "train, test = train_test_split(df_resampled, test_size=0.2, random_state=0)\n",
    "\n",
    "print(train.shape, test.shape)"
   ]
  },
  {
   "cell_type": "markdown",
   "metadata": {},
   "source": [
    "----------------------------------------------------"
   ]
  },
  {
   "cell_type": "markdown",
   "metadata": {},
   "source": [
    "#### Update Entity"
   ]
  },
  {
   "cell_type": "code",
   "execution_count": 13,
   "metadata": {},
   "outputs": [],
   "source": [
    "from dataclasses import dataclass\n",
    "from pathlib import Path\n",
    "\n",
    "@dataclass(frozen=True)\n",
    "class DataTransformationConfig:\n",
    "    root_dir: Path\n",
    "    data_path: Path"
   ]
  },
  {
   "cell_type": "code",
   "execution_count": 14,
   "metadata": {},
   "outputs": [
    {
     "data": {
      "text/plain": [
       "'f:\\\\End-to-End-DS-Projects\\\\Bank Churn Prediction'"
      ]
     },
     "execution_count": 14,
     "metadata": {},
     "output_type": "execute_result"
    }
   ],
   "source": [
    "import os, sys\n",
    "%pwd"
   ]
  },
  {
   "cell_type": "code",
   "execution_count": 70,
   "metadata": {},
   "outputs": [
    {
     "data": {
      "text/plain": [
       "'f:\\\\End-to-End-DS-Projects\\\\Bank Churn Prediction'"
      ]
     },
     "execution_count": 70,
     "metadata": {},
     "output_type": "execute_result"
    }
   ],
   "source": [
    "os.chdir('../')\n",
    "%pwd"
   ]
  },
  {
   "cell_type": "markdown",
   "metadata": {},
   "source": [
    "#### Update Config manager"
   ]
  },
  {
   "cell_type": "code",
   "execution_count": 15,
   "metadata": {},
   "outputs": [],
   "source": [
    "from src.BankChurn.constants import *\n",
    "from src.BankChurn.utils.common import read_yaml, create_directories\n",
    "\n",
    "class ConfigurationManager:\n",
    "    def __init__(\n",
    "        self,\n",
    "        config_filepath = CONFIG_FILE_PATH,\n",
    "        params_filepath = PARAMS_FILE_PATH,\n",
    "        schema_filepath = SCHEMA_FILE_PATH):\n",
    "\n",
    "        self.config = read_yaml(config_filepath)\n",
    "        self.params = read_yaml(params_filepath)\n",
    "        self.schema = read_yaml(schema_filepath)\n",
    "\n",
    "        create_directories([self.config.artifacts_root])\n",
    "\n",
    "\n",
    "    \n",
    "    def get_data_transformation_config(self) -> DataTransformationConfig:\n",
    "        config = self.config.data_transformation\n",
    "\n",
    "        create_directories([config.root_dir])\n",
    "\n",
    "        data_transformation_config = DataTransformationConfig(\n",
    "            root_dir=config.root_dir,\n",
    "            data_path=config.data_path,\n",
    "        )\n",
    "\n",
    "        return data_transformation_config\n",
    "\n"
   ]
  },
  {
   "cell_type": "markdown",
   "metadata": {},
   "source": [
    "#### Update the components"
   ]
  },
  {
   "cell_type": "code",
   "execution_count": 16,
   "metadata": {},
   "outputs": [],
   "source": [
    "import os\n",
    "import pandas as pd\n",
    "import numpy as np\n",
    "from src.BankChurn import logger\n",
    "import pickle\n",
    "from sklearn.preprocessing import StandardScaler\n",
    "from imblearn.over_sampling import SMOTE\n",
    "from sklearn.model_selection import train_test_split\n",
    "\n",
    "class DataTransformationClass:\n",
    "    def __init__(self, data_path, config: DataTransformationConfig):\n",
    "        self.data_path = data_path\n",
    "        self.config = config\n",
    "        logger.info('Initialized DataTransformationClass')\n",
    "\n",
    "    def load_data(self):\n",
    "        logger.info('Loading data from {}'.format(self.data_path))\n",
    "        df = pd.read_pickle(self.data_path)\n",
    "        logger.info('Loaded data with shape {}'.format(df.shape))\n",
    "        return df\n",
    "\n",
    "    def preprocess_data(self, df):\n",
    "        numbCol = ['EstimatedSalary', 'Balance', 'CreditScore', 'Age']\n",
    "        df[numbCol] = StandardScaler().fit_transform(df[numbCol])\n",
    "        logger.info('Preprocessed data')\n",
    "        return df\n",
    "\n",
    "    def resample_data(self, df):\n",
    "        x1 = df.drop(columns=['Exited'])\n",
    "        y1 = df['Exited']\n",
    "        over = SMOTE(sampling_strategy=1)\n",
    "        x1_resampled, y1_resampled = over.fit_resample(x1, y1)\n",
    "        logger.info('Oversampled data')\n",
    "        return x1_resampled, y1_resampled\n",
    "\n",
    "    def split_data(self, df_resampled):\n",
    "        train, test = train_test_split(df_resampled, test_size=0.2, random_state=0)\n",
    "        logger.info('Split data into train and test with shapes {} and {}'.format(train.shape, test.shape))\n",
    "        return train, test\n",
    "\n",
    "    def save_data(self, train, test):\n",
    "        os.makedirs('artifacts/data_transformation', exist_ok=True)\n",
    "        train.to_pickle(os.path.join(self.config.root_dir, \"train.pkl\"),protocol=pickle.HIGHEST_PROTOCOL)\n",
    "        test.to_pickle(os.path.join(self.config.root_dir, \"test.pkl\"),protocol=pickle.HIGHEST_PROTOCOL)\n",
    "        \n",
    "    def transform_data(self):\n",
    "        df = self.load_data()\n",
    "        preprocessed_data = self.preprocess_data(df)\n",
    "        resampled_data_x, resampled_data_y = self.resample_data(preprocessed_data)\n",
    "        train, test = self.split_data(resampled_data_x)\n",
    "        self.save_data(train, test)"
   ]
  },
  {
   "cell_type": "markdown",
   "metadata": {},
   "source": [
    "#### Update Pipeline"
   ]
  },
  {
   "cell_type": "code",
   "execution_count": 18,
   "metadata": {},
   "outputs": [
    {
     "name": "stdout",
     "output_type": "stream",
     "text": [
      "[2024-06-05 20:07:42,925: 31 - Bank Churn Project Logger: INFO: common: yaml file: config\\config.yaml loaded successfully]\n",
      "[2024-06-05 20:07:42,928: 31 - Bank Churn Project Logger: INFO: common: yaml file: params.yaml loaded successfully]\n",
      "[2024-06-05 20:07:42,933: 31 - Bank Churn Project Logger: INFO: common: yaml file: schema.yaml loaded successfully]\n",
      "[2024-06-05 20:07:42,935: 51 - Bank Churn Project Logger: INFO: common: created directory at: artifacts]\n",
      "[2024-06-05 20:07:42,938: 51 - Bank Churn Project Logger: INFO: common: created directory at: artifacts/data_transformation]\n",
      "[2024-06-05 20:07:42,939: 14 - Bank Churn Project Logger: INFO: 671027987: Initialized DataTransformationClass]\n",
      "[2024-06-05 20:07:42,940: 17 - Bank Churn Project Logger: INFO: 671027987: Loading data from artifacts/data_preprocessed/preprocessed_data.pkl]\n",
      "[2024-06-05 20:07:42,953: 19 - Bank Churn Project Logger: INFO: 671027987: Loaded data with shape (10000, 10)]\n",
      "[2024-06-05 20:07:42,968: 25 - Bank Churn Project Logger: INFO: 671027987: Preprocessed data]\n",
      "[2024-06-05 20:07:43,113: 33 - Bank Churn Project Logger: INFO: 671027987: Oversampled data]\n",
      "[2024-06-05 20:07:43,172: 38 - Bank Churn Project Logger: INFO: 671027987: Split data into train and test with shapes (12740, 9) and (3186, 9)]\n"
     ]
    }
   ],
   "source": [
    "try:\n",
    "    DATA_PATH = 'artifacts/data_preprocessed/preprocessed_data.pkl'\n",
    "    config = ConfigurationManager()\n",
    "    data_transformation_config = config.get_data_transformation_config()\n",
    "    data_transformation = DataTransformationClass(data_path=DATA_PATH, config=data_transformation_config)\n",
    "    data_transformation.transform_data()\n",
    "except Exception as e:\n",
    "    raise e"
   ]
  },
  {
   "cell_type": "code",
   "execution_count": 3,
   "metadata": {},
   "outputs": [
    {
     "data": {
      "text/plain": [
       "'f:\\\\End-to-End-DS-Projects\\\\Bank Churn Prediction'"
      ]
     },
     "execution_count": 3,
     "metadata": {},
     "output_type": "execute_result"
    }
   ],
   "source": [
    "import os\n",
    "%pwd\n",
    "os.chdir('../')\n",
    "%pwd"
   ]
  },
  {
   "cell_type": "code",
   "execution_count": 9,
   "metadata": {},
   "outputs": [
    {
     "data": {
      "text/plain": [
       "'f:\\\\End-to-End-DS-Projects\\\\Bank Churn Prediction'"
      ]
     },
     "execution_count": 9,
     "metadata": {},
     "output_type": "execute_result"
    }
   ],
   "source": [
    "%pwd"
   ]
  },
  {
   "cell_type": "markdown",
   "metadata": {},
   "source": []
  },
  {
   "cell_type": "markdown",
   "metadata": {},
   "source": []
  }
 ],
 "metadata": {
  "kernelspec": {
   "display_name": "Python 3",
   "language": "python",
   "name": "python3"
  },
  "language_info": {
   "codemirror_mode": {
    "name": "ipython",
    "version": 3
   },
   "file_extension": ".py",
   "mimetype": "text/x-python",
   "name": "python",
   "nbconvert_exporter": "python",
   "pygments_lexer": "ipython3",
   "version": "3.8.19"
  }
 },
 "nbformat": 4,
 "nbformat_minor": 2
}
